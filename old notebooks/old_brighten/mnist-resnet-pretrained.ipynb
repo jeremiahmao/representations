{
 "cells": [
  {
   "cell_type": "code",
   "execution_count": 1,
   "metadata": {},
   "outputs": [],
   "source": [
    "from sklearn.cluster import MiniBatchKMeans\n",
    "import numpy as np\n",
    "import math\n",
    "import matplotlib.pyplot as plt\n",
    "import torch\n",
    "import torch.nn as nn\n",
    "from torchvision import models\n",
    "from torchinfo import summary\n",
    "from IPython.display import clear_output\n",
    "import torch.optim as optim\n",
    "import torch.nn.functional as F\n",
    "from torch.utils.data import DataLoader\n",
    "from torchvision import datasets\n",
    "from torchvision.transforms import v2\n",
    "from torchvision.transforms import ToTensor\n",
    "\n",
    "from funcs import get_cifar10_mu_std_img, normalize\n",
    "from resnet import *"
   ]
  },
  {
   "cell_type": "code",
   "execution_count": 2,
   "metadata": {},
   "outputs": [],
   "source": [
    "device = torch.device(\"cuda\")"
   ]
  },
  {
   "cell_type": "code",
   "execution_count": 3,
   "metadata": {},
   "outputs": [],
   "source": [
    "training_data = datasets.MNIST(\n",
    "    root=\"data\",\n",
    "    train=True,\n",
    "    download=True,\n",
    "    transform=ToTensor()\n",
    ")\n",
    "\n",
    "test_data = datasets.MNIST(\n",
    "    root=\"data\",\n",
    "    train=False,\n",
    "    download=True,\n",
    "    transform=ToTensor()\n",
    ")"
   ]
  },
  {
   "cell_type": "code",
   "execution_count": 4,
   "metadata": {},
   "outputs": [],
   "source": [
    "BATCH_SIZE = 100\n",
    "loader_train = DataLoader(training_data, batch_size=BATCH_SIZE, shuffle=True)\n",
    "loader_test = DataLoader(test_data, batch_size=BATCH_SIZE, shuffle=True)"
   ]
  },
  {
   "cell_type": "code",
   "execution_count": 5,
   "metadata": {},
   "outputs": [
    {
     "data": {
      "text/plain": [
       "ResNet(\n",
       "  (conv1): Conv2d(3, 64, kernel_size=(7, 7), stride=(2, 2), padding=(3, 3), bias=False)\n",
       "  (bn1): BatchNorm2d(64, eps=1e-05, momentum=0.1, affine=True, track_running_stats=True)\n",
       "  (relu): ReLU(inplace=True)\n",
       "  (maxpool): MaxPool2d(kernel_size=3, stride=2, padding=1, dilation=1, ceil_mode=False)\n",
       "  (layer1): Sequential(\n",
       "    (0): Bottleneck(\n",
       "      (conv1): Conv2d(64, 64, kernel_size=(1, 1), stride=(1, 1), bias=False)\n",
       "      (bn1): BatchNorm2d(64, eps=1e-05, momentum=0.1, affine=True, track_running_stats=True)\n",
       "      (conv2): Conv2d(64, 64, kernel_size=(3, 3), stride=(1, 1), padding=(1, 1), bias=False)\n",
       "      (bn2): BatchNorm2d(64, eps=1e-05, momentum=0.1, affine=True, track_running_stats=True)\n",
       "      (conv3): Conv2d(64, 256, kernel_size=(1, 1), stride=(1, 1), bias=False)\n",
       "      (bn3): BatchNorm2d(256, eps=1e-05, momentum=0.1, affine=True, track_running_stats=True)\n",
       "      (relu): ReLU(inplace=True)\n",
       "      (downsample): Sequential(\n",
       "        (0): Conv2d(64, 256, kernel_size=(1, 1), stride=(1, 1), bias=False)\n",
       "        (1): BatchNorm2d(256, eps=1e-05, momentum=0.1, affine=True, track_running_stats=True)\n",
       "      )\n",
       "    )\n",
       "    (1): Bottleneck(\n",
       "      (conv1): Conv2d(256, 64, kernel_size=(1, 1), stride=(1, 1), bias=False)\n",
       "      (bn1): BatchNorm2d(64, eps=1e-05, momentum=0.1, affine=True, track_running_stats=True)\n",
       "      (conv2): Conv2d(64, 64, kernel_size=(3, 3), stride=(1, 1), padding=(1, 1), bias=False)\n",
       "      (bn2): BatchNorm2d(64, eps=1e-05, momentum=0.1, affine=True, track_running_stats=True)\n",
       "      (conv3): Conv2d(64, 256, kernel_size=(1, 1), stride=(1, 1), bias=False)\n",
       "      (bn3): BatchNorm2d(256, eps=1e-05, momentum=0.1, affine=True, track_running_stats=True)\n",
       "      (relu): ReLU(inplace=True)\n",
       "    )\n",
       "    (2): Bottleneck(\n",
       "      (conv1): Conv2d(256, 64, kernel_size=(1, 1), stride=(1, 1), bias=False)\n",
       "      (bn1): BatchNorm2d(64, eps=1e-05, momentum=0.1, affine=True, track_running_stats=True)\n",
       "      (conv2): Conv2d(64, 64, kernel_size=(3, 3), stride=(1, 1), padding=(1, 1), bias=False)\n",
       "      (bn2): BatchNorm2d(64, eps=1e-05, momentum=0.1, affine=True, track_running_stats=True)\n",
       "      (conv3): Conv2d(64, 256, kernel_size=(1, 1), stride=(1, 1), bias=False)\n",
       "      (bn3): BatchNorm2d(256, eps=1e-05, momentum=0.1, affine=True, track_running_stats=True)\n",
       "      (relu): ReLU(inplace=True)\n",
       "    )\n",
       "  )\n",
       "  (layer2): Sequential(\n",
       "    (0): Bottleneck(\n",
       "      (conv1): Conv2d(256, 128, kernel_size=(1, 1), stride=(1, 1), bias=False)\n",
       "      (bn1): BatchNorm2d(128, eps=1e-05, momentum=0.1, affine=True, track_running_stats=True)\n",
       "      (conv2): Conv2d(128, 128, kernel_size=(3, 3), stride=(2, 2), padding=(1, 1), bias=False)\n",
       "      (bn2): BatchNorm2d(128, eps=1e-05, momentum=0.1, affine=True, track_running_stats=True)\n",
       "      (conv3): Conv2d(128, 512, kernel_size=(1, 1), stride=(1, 1), bias=False)\n",
       "      (bn3): BatchNorm2d(512, eps=1e-05, momentum=0.1, affine=True, track_running_stats=True)\n",
       "      (relu): ReLU(inplace=True)\n",
       "      (downsample): Sequential(\n",
       "        (0): Conv2d(256, 512, kernel_size=(1, 1), stride=(2, 2), bias=False)\n",
       "        (1): BatchNorm2d(512, eps=1e-05, momentum=0.1, affine=True, track_running_stats=True)\n",
       "      )\n",
       "    )\n",
       "    (1): Bottleneck(\n",
       "      (conv1): Conv2d(512, 128, kernel_size=(1, 1), stride=(1, 1), bias=False)\n",
       "      (bn1): BatchNorm2d(128, eps=1e-05, momentum=0.1, affine=True, track_running_stats=True)\n",
       "      (conv2): Conv2d(128, 128, kernel_size=(3, 3), stride=(1, 1), padding=(1, 1), bias=False)\n",
       "      (bn2): BatchNorm2d(128, eps=1e-05, momentum=0.1, affine=True, track_running_stats=True)\n",
       "      (conv3): Conv2d(128, 512, kernel_size=(1, 1), stride=(1, 1), bias=False)\n",
       "      (bn3): BatchNorm2d(512, eps=1e-05, momentum=0.1, affine=True, track_running_stats=True)\n",
       "      (relu): ReLU(inplace=True)\n",
       "    )\n",
       "    (2): Bottleneck(\n",
       "      (conv1): Conv2d(512, 128, kernel_size=(1, 1), stride=(1, 1), bias=False)\n",
       "      (bn1): BatchNorm2d(128, eps=1e-05, momentum=0.1, affine=True, track_running_stats=True)\n",
       "      (conv2): Conv2d(128, 128, kernel_size=(3, 3), stride=(1, 1), padding=(1, 1), bias=False)\n",
       "      (bn2): BatchNorm2d(128, eps=1e-05, momentum=0.1, affine=True, track_running_stats=True)\n",
       "      (conv3): Conv2d(128, 512, kernel_size=(1, 1), stride=(1, 1), bias=False)\n",
       "      (bn3): BatchNorm2d(512, eps=1e-05, momentum=0.1, affine=True, track_running_stats=True)\n",
       "      (relu): ReLU(inplace=True)\n",
       "    )\n",
       "    (3): Bottleneck(\n",
       "      (conv1): Conv2d(512, 128, kernel_size=(1, 1), stride=(1, 1), bias=False)\n",
       "      (bn1): BatchNorm2d(128, eps=1e-05, momentum=0.1, affine=True, track_running_stats=True)\n",
       "      (conv2): Conv2d(128, 128, kernel_size=(3, 3), stride=(1, 1), padding=(1, 1), bias=False)\n",
       "      (bn2): BatchNorm2d(128, eps=1e-05, momentum=0.1, affine=True, track_running_stats=True)\n",
       "      (conv3): Conv2d(128, 512, kernel_size=(1, 1), stride=(1, 1), bias=False)\n",
       "      (bn3): BatchNorm2d(512, eps=1e-05, momentum=0.1, affine=True, track_running_stats=True)\n",
       "      (relu): ReLU(inplace=True)\n",
       "    )\n",
       "  )\n",
       "  (layer3): Sequential(\n",
       "    (0): Bottleneck(\n",
       "      (conv1): Conv2d(512, 256, kernel_size=(1, 1), stride=(1, 1), bias=False)\n",
       "      (bn1): BatchNorm2d(256, eps=1e-05, momentum=0.1, affine=True, track_running_stats=True)\n",
       "      (conv2): Conv2d(256, 256, kernel_size=(3, 3), stride=(2, 2), padding=(1, 1), bias=False)\n",
       "      (bn2): BatchNorm2d(256, eps=1e-05, momentum=0.1, affine=True, track_running_stats=True)\n",
       "      (conv3): Conv2d(256, 1024, kernel_size=(1, 1), stride=(1, 1), bias=False)\n",
       "      (bn3): BatchNorm2d(1024, eps=1e-05, momentum=0.1, affine=True, track_running_stats=True)\n",
       "      (relu): ReLU(inplace=True)\n",
       "      (downsample): Sequential(\n",
       "        (0): Conv2d(512, 1024, kernel_size=(1, 1), stride=(2, 2), bias=False)\n",
       "        (1): BatchNorm2d(1024, eps=1e-05, momentum=0.1, affine=True, track_running_stats=True)\n",
       "      )\n",
       "    )\n",
       "    (1): Bottleneck(\n",
       "      (conv1): Conv2d(1024, 256, kernel_size=(1, 1), stride=(1, 1), bias=False)\n",
       "      (bn1): BatchNorm2d(256, eps=1e-05, momentum=0.1, affine=True, track_running_stats=True)\n",
       "      (conv2): Conv2d(256, 256, kernel_size=(3, 3), stride=(1, 1), padding=(1, 1), bias=False)\n",
       "      (bn2): BatchNorm2d(256, eps=1e-05, momentum=0.1, affine=True, track_running_stats=True)\n",
       "      (conv3): Conv2d(256, 1024, kernel_size=(1, 1), stride=(1, 1), bias=False)\n",
       "      (bn3): BatchNorm2d(1024, eps=1e-05, momentum=0.1, affine=True, track_running_stats=True)\n",
       "      (relu): ReLU(inplace=True)\n",
       "    )\n",
       "    (2): Bottleneck(\n",
       "      (conv1): Conv2d(1024, 256, kernel_size=(1, 1), stride=(1, 1), bias=False)\n",
       "      (bn1): BatchNorm2d(256, eps=1e-05, momentum=0.1, affine=True, track_running_stats=True)\n",
       "      (conv2): Conv2d(256, 256, kernel_size=(3, 3), stride=(1, 1), padding=(1, 1), bias=False)\n",
       "      (bn2): BatchNorm2d(256, eps=1e-05, momentum=0.1, affine=True, track_running_stats=True)\n",
       "      (conv3): Conv2d(256, 1024, kernel_size=(1, 1), stride=(1, 1), bias=False)\n",
       "      (bn3): BatchNorm2d(1024, eps=1e-05, momentum=0.1, affine=True, track_running_stats=True)\n",
       "      (relu): ReLU(inplace=True)\n",
       "    )\n",
       "    (3): Bottleneck(\n",
       "      (conv1): Conv2d(1024, 256, kernel_size=(1, 1), stride=(1, 1), bias=False)\n",
       "      (bn1): BatchNorm2d(256, eps=1e-05, momentum=0.1, affine=True, track_running_stats=True)\n",
       "      (conv2): Conv2d(256, 256, kernel_size=(3, 3), stride=(1, 1), padding=(1, 1), bias=False)\n",
       "      (bn2): BatchNorm2d(256, eps=1e-05, momentum=0.1, affine=True, track_running_stats=True)\n",
       "      (conv3): Conv2d(256, 1024, kernel_size=(1, 1), stride=(1, 1), bias=False)\n",
       "      (bn3): BatchNorm2d(1024, eps=1e-05, momentum=0.1, affine=True, track_running_stats=True)\n",
       "      (relu): ReLU(inplace=True)\n",
       "    )\n",
       "    (4): Bottleneck(\n",
       "      (conv1): Conv2d(1024, 256, kernel_size=(1, 1), stride=(1, 1), bias=False)\n",
       "      (bn1): BatchNorm2d(256, eps=1e-05, momentum=0.1, affine=True, track_running_stats=True)\n",
       "      (conv2): Conv2d(256, 256, kernel_size=(3, 3), stride=(1, 1), padding=(1, 1), bias=False)\n",
       "      (bn2): BatchNorm2d(256, eps=1e-05, momentum=0.1, affine=True, track_running_stats=True)\n",
       "      (conv3): Conv2d(256, 1024, kernel_size=(1, 1), stride=(1, 1), bias=False)\n",
       "      (bn3): BatchNorm2d(1024, eps=1e-05, momentum=0.1, affine=True, track_running_stats=True)\n",
       "      (relu): ReLU(inplace=True)\n",
       "    )\n",
       "    (5): Bottleneck(\n",
       "      (conv1): Conv2d(1024, 256, kernel_size=(1, 1), stride=(1, 1), bias=False)\n",
       "      (bn1): BatchNorm2d(256, eps=1e-05, momentum=0.1, affine=True, track_running_stats=True)\n",
       "      (conv2): Conv2d(256, 256, kernel_size=(3, 3), stride=(1, 1), padding=(1, 1), bias=False)\n",
       "      (bn2): BatchNorm2d(256, eps=1e-05, momentum=0.1, affine=True, track_running_stats=True)\n",
       "      (conv3): Conv2d(256, 1024, kernel_size=(1, 1), stride=(1, 1), bias=False)\n",
       "      (bn3): BatchNorm2d(1024, eps=1e-05, momentum=0.1, affine=True, track_running_stats=True)\n",
       "      (relu): ReLU(inplace=True)\n",
       "    )\n",
       "  )\n",
       "  (layer4): Sequential(\n",
       "    (0): Bottleneck(\n",
       "      (conv1): Conv2d(1024, 512, kernel_size=(1, 1), stride=(1, 1), bias=False)\n",
       "      (bn1): BatchNorm2d(512, eps=1e-05, momentum=0.1, affine=True, track_running_stats=True)\n",
       "      (conv2): Conv2d(512, 512, kernel_size=(3, 3), stride=(2, 2), padding=(1, 1), bias=False)\n",
       "      (bn2): BatchNorm2d(512, eps=1e-05, momentum=0.1, affine=True, track_running_stats=True)\n",
       "      (conv3): Conv2d(512, 2048, kernel_size=(1, 1), stride=(1, 1), bias=False)\n",
       "      (bn3): BatchNorm2d(2048, eps=1e-05, momentum=0.1, affine=True, track_running_stats=True)\n",
       "      (relu): ReLU(inplace=True)\n",
       "      (downsample): Sequential(\n",
       "        (0): Conv2d(1024, 2048, kernel_size=(1, 1), stride=(2, 2), bias=False)\n",
       "        (1): BatchNorm2d(2048, eps=1e-05, momentum=0.1, affine=True, track_running_stats=True)\n",
       "      )\n",
       "    )\n",
       "    (1): Bottleneck(\n",
       "      (conv1): Conv2d(2048, 512, kernel_size=(1, 1), stride=(1, 1), bias=False)\n",
       "      (bn1): BatchNorm2d(512, eps=1e-05, momentum=0.1, affine=True, track_running_stats=True)\n",
       "      (conv2): Conv2d(512, 512, kernel_size=(3, 3), stride=(1, 1), padding=(1, 1), bias=False)\n",
       "      (bn2): BatchNorm2d(512, eps=1e-05, momentum=0.1, affine=True, track_running_stats=True)\n",
       "      (conv3): Conv2d(512, 2048, kernel_size=(1, 1), stride=(1, 1), bias=False)\n",
       "      (bn3): BatchNorm2d(2048, eps=1e-05, momentum=0.1, affine=True, track_running_stats=True)\n",
       "      (relu): ReLU(inplace=True)\n",
       "    )\n",
       "    (2): Bottleneck(\n",
       "      (conv1): Conv2d(2048, 512, kernel_size=(1, 1), stride=(1, 1), bias=False)\n",
       "      (bn1): BatchNorm2d(512, eps=1e-05, momentum=0.1, affine=True, track_running_stats=True)\n",
       "      (conv2): Conv2d(512, 512, kernel_size=(3, 3), stride=(1, 1), padding=(1, 1), bias=False)\n",
       "      (bn2): BatchNorm2d(512, eps=1e-05, momentum=0.1, affine=True, track_running_stats=True)\n",
       "      (conv3): Conv2d(512, 2048, kernel_size=(1, 1), stride=(1, 1), bias=False)\n",
       "      (bn3): BatchNorm2d(2048, eps=1e-05, momentum=0.1, affine=True, track_running_stats=True)\n",
       "      (relu): ReLU(inplace=True)\n",
       "    )\n",
       "  )\n",
       "  (avgpool): AdaptiveAvgPool2d(output_size=(1, 1))\n",
       "  (fc): Linear(in_features=2048, out_features=1000, bias=True)\n",
       ")"
      ]
     },
     "execution_count": 5,
     "metadata": {},
     "output_type": "execute_result"
    }
   ],
   "source": [
    "from resnet import resnet50\n",
    "\n",
    "model = models.resnet50(weights=models.ResNet50_Weights.IMAGENET1K_V2)\n",
    "model.to(device)"
   ]
  },
  {
   "cell_type": "code",
   "execution_count": 6,
   "metadata": {},
   "outputs": [],
   "source": [
    "features = {}\n",
    "def get_features(name):\n",
    "    def hook(model, input, output):\n",
    "        features[name] = output.detach()\n",
    "\n",
    "    return hook"
   ]
  },
  {
   "cell_type": "code",
   "execution_count": 7,
   "metadata": {},
   "outputs": [],
   "source": [
    "model.layer4.register_forward_hook(get_features('last_conv'))\n",
    "model.avgpool.register_forward_hook(get_features('last_fc'))\n",
    "\n",
    "\n",
    "trafos = v2.Compose([\n",
    "    v2.Lambda(lambda x: x.repeat(1,3,1,1))\n",
    "    #v2.ToTensor(),\n",
    "])\n"
   ]
  },
  {
   "cell_type": "code",
   "execution_count": 8,
   "metadata": {},
   "outputs": [
    {
     "name": "stdout",
     "output_type": "stream",
     "text": [
      "Finished 599 batches...\n"
     ]
    }
   ],
   "source": [
    "num_train_samples = len(training_data)\n",
    "\n",
    "last_conv_feats, last_fc_feats = [], []\n",
    "x_train, y_train = [], []\n",
    "\n",
    "# placeholder for batch features\n",
    "features = {}\n",
    "\n",
    "mu_img, std_img = get_cifar10_mu_std_img()\n",
    "# loop through batches\n",
    "for idx, batch in enumerate(loader_train):\n",
    "    x = batch[0]\n",
    "    y = batch[1]\n",
    "    x_train.append(x)\n",
    "    y_train.append(y)\n",
    "    #x = normalize(torch.clone(x), mu_img, std_img)\n",
    "    x = trafos(x)\n",
    "    x = x.to(device)\n",
    "    # forward pass [with feature extraction]\n",
    "    preds = model(x)\n",
    "\n",
    "    # add feats and preds to lists\n",
    "    last_conv_feats.append(features['last_conv'].cpu().numpy())\n",
    "    last_fc_feats.append(features['last_fc'].cpu().numpy())\n",
    "\n",
    "    print('Finished', idx, 'batches...')\n",
    "    clear_output(wait=True)"
   ]
  },
  {
   "cell_type": "code",
   "execution_count": 9,
   "metadata": {},
   "outputs": [
    {
     "data": {
      "text/plain": [
       "<matplotlib.image.AxesImage at 0x283f499ed50>"
      ]
     },
     "execution_count": 9,
     "metadata": {},
     "output_type": "execute_result"
    },
    {
     "data": {
      "image/png": "[encoded data removed]",
      "text/plain": [
       "<Figure size 640x480 with 1 Axes>"
      ]
     },
     "metadata": {},
     "output_type": "display_data"
    }
   ],
   "source": [
    "plt.imshow(trafos(x_train[0])[0][1])"
   ]
  },
  {
   "cell_type": "code",
   "execution_count": 10,
   "metadata": {},
   "outputs": [],
   "source": [
    "raw_pixel_feats = np.array(x_train).reshape(num_train_samples, -1)\n",
    "labels = np.array(y_train).reshape(num_train_samples, )\n",
    "conv_feats = np.array(last_conv_feats).reshape(num_train_samples, -1)\n",
    "fc_feats = np.array(last_fc_feats).reshape(num_train_samples, -1)\n"
   ]
  },
  {
   "cell_type": "code",
   "execution_count": 11,
   "metadata": {},
   "outputs": [],
   "source": [
    "#from funcs import kmeans_cost\n",
    "\n",
    "def kmeans_cost(feat, kmeans):\n",
    "    pred = kmeans.predict(feat)\n",
    "    centers = kmeans.cluster_centers_[pred]\n",
    "    distances = [np.linalg.norm(feat[i]-centers[i]) for i in range(len(feat))]\n",
    "    cost = np.sum(distances)\n",
    "    return cost\n",
    "\n",
    "raw_costs, conv_costs, fc_costs  = [], [], []\n",
    "raw_clusters, conv_clusters, fc_clusters = [], [], []\n",
    "for i in np.arange(1,21):\n",
    "    raw_kmeans = MiniBatchKMeans(n_clusters=i, init='k-means++', batch_size=1000, random_state=0).fit(raw_pixel_feats)\n",
    "    conv_kmeans = MiniBatchKMeans(n_clusters=i, init='k-means++', batch_size=1000, random_state=0).fit(conv_feats)\n",
    "    fc_kmeans = MiniBatchKMeans(n_clusters=i, init='k-means++', batch_size=1000, random_state=0).fit(fc_feats)\n",
    "\n",
    "    raw_costs.append(kmeans_cost(raw_pixel_feats, raw_kmeans))\n",
    "    conv_costs.append(kmeans_cost(conv_feats, conv_kmeans))\n",
    "    fc_costs.append(kmeans_cost(fc_feats, fc_kmeans))\n",
    "\n",
    "    raw_clusters.append(raw_kmeans)\n",
    "    conv_clusters.append(conv_kmeans)\n",
    "    fc_clusters.append(fc_kmeans)"
   ]
  },
  {
   "cell_type": "code",
   "execution_count": 1,
   "metadata": {},
   "outputs": [
    {
     "ename": "NameError",
     "evalue": "name 'np' is not defined",
     "output_type": "error",
     "traceback": [
      "\u001b[1;31m---------------------------------------------------------------------------\u001b[0m",
      "\u001b[1;31mNameError\u001b[0m                                 Traceback (most recent call last)",
      "Cell \u001b[1;32mIn[1], line 1\u001b[0m\n\u001b[1;32m----> 1\u001b[0m max_cost, min_cost \u001b[38;5;241m=\u001b[39m \u001b[38;5;28mmax\u001b[39m(\u001b[43mnp\u001b[49m\u001b[38;5;241m.\u001b[39mmax(raw_costs), np\u001b[38;5;241m.\u001b[39mmax(conv_costs), np\u001b[38;5;241m.\u001b[39mmax(fc_costs)), \u001b[38;5;28mmin\u001b[39m(np\u001b[38;5;241m.\u001b[39mmin(raw_costs), np\u001b[38;5;241m.\u001b[39mmin(conv_costs), np\u001b[38;5;241m.\u001b[39mmin(fc_costs))\n\u001b[0;32m      2\u001b[0m norm_raw_costs \u001b[38;5;241m=\u001b[39m (np\u001b[38;5;241m.\u001b[39marray(raw_costs) \u001b[38;5;241m-\u001b[39m min_cost)\u001b[38;5;241m/\u001b[39m(max_cost \u001b[38;5;241m-\u001b[39m min_cost)\n\u001b[0;32m      3\u001b[0m norm_conv_costs \u001b[38;5;241m=\u001b[39m (np\u001b[38;5;241m.\u001b[39marray(conv_costs) \u001b[38;5;241m-\u001b[39m min_cost)\u001b[38;5;241m/\u001b[39m(max_cost \u001b[38;5;241m-\u001b[39m min_cost)\n",
      "\u001b[1;31mNameError\u001b[0m: name 'np' is not defined"
     ]
    }
   ],
   "source": [
    "max_cost, min_cost = max(np.max(raw_costs), np.max(conv_costs), np.max(fc_costs)), min(np.min(raw_costs), np.min(conv_costs), np.min(fc_costs))\n",
    "norm_raw_costs = (np.array(raw_costs) - min_cost)/(max_cost - min_cost)\n",
    "norm_conv_costs = (np.array(conv_costs) - min_cost)/(max_cost - min_cost)\n",
    "norm_fc_costs = (np.array(fc_costs) - min_cost)/(max_cost - min_cost)\n",
    "\n",
    "k_vals = np.arange(1,21)\n",
    "fig, ax = plt.subplots(1,1, figsize=(10, 5))\n",
    "ax.plot(k_vals, norm_raw_costs, label='raw', marker='o')\n",
    "ax.plot(k_vals, norm_conv_costs, label='last conv', marker='o')\n",
    "ax.plot(k_vals, norm_fc_costs, label='last fc', marker='o')\n",
    "ax.set_xlabel(\"number of clusters\")\n",
    "ax.set_ylabel(\"normalized clustering cost\")\n",
    "ax.set_title(\"cluster costs for MNIST features using ResNet50 (pretrained on ImageNet1k)\")\n",
    "ax.legend()"
   ]
  },
  {
   "cell_type": "code",
   "execution_count": 14,
   "metadata": {},
   "outputs": [],
   "source": [
    "def compute_m(i, data, labels):\n",
    "    diff = data - data[i]\n",
    "    dist = np.sqrt(np.sum(diff**2,axis=-1))\n",
    "    indices = np.arange(data.shape[0])\n",
    "    index_dist_tuples = list(zip(indices, dist))\n",
    "    sorted_dists = sorted(index_dist_tuples, key=lambda tup: tup[1])\n",
    "\n",
    "    new_list = []\n",
    "    x_label = labels[i]\n",
    "    labels_in_ball = {0:0, 1:0, 2:0, 3:0, 4:0, 5:0, 6:0, 7:0, 8:0, 9:0}\n",
    "    for s,d in sorted_dists:\n",
    "        labels_in_ball[labels[s]] += 1\n",
    "        majority_label = max(labels_in_ball, key=labels_in_ball.get)\n",
    "        if majority_label != x_label:\n",
    "            break\n",
    "        new_list.append((s,d))\n",
    "    \n",
    "    m = len(new_list) / data.shape[0]\n",
    "    return m\n",
    "\n",
    "def compute_m_vals(data, labels, subset_size):\n",
    "    m_vals = []\n",
    "    for i in np.arange(data.shape[0]):\n",
    "        m = compute_m(i, data, labels)\n",
    "        m_vals.append(m)\n",
    "\n",
    "        if i%100 == 0:\n",
    "            print('Finished', i, 'iterations...')\n",
    "            clear_output(wait=True)\n",
    "\n",
    "        if i >= subset_size:\n",
    "            break\n",
    "        \n",
    "    return m_vals  "
   ]
  },
  {
   "cell_type": "code",
   "execution_count": 15,
   "metadata": {},
   "outputs": [
    {
     "name": "stdout",
     "output_type": "stream",
     "text": [
      "[1.0, 0.3771, 0.75855, 0.8323, 0.8709666666666667, 0.35696666666666665, 0.6746666666666666, 0.24691666666666667, 0.0276, 0.12861666666666666, 0.010116666666666666, 0.62405, 0.06635, 0.11381666666666666, 0.16478333333333334, 0.3173, 0.15563333333333335, 0.6833833333333333, 0.5266166666666666, 0.1477, 0.8037333333333333, 0.10571666666666667, 1.0, 0.13621666666666668, 0.0006833333333333333, 0.11678333333333334, 0.26571666666666666, 0.0972, 1.0, 1.0, 0.004016666666666667, 0.017016666666666666, 0.14221666666666666, 1.6666666666666667e-05, 0.8757166666666667, 1.0, 0.41913333333333336, 0.08236666666666667, 0.05221666666666667, 3.3333333333333335e-05, 0.10926666666666666, 0.5705, 1.0, 0.09845, 0.0023, 0.80605, 0.16186666666666666, 0.13445, 0.0004166666666666667, 0.10545, 0.062016666666666664, 0.021066666666666668, 0.16306666666666667, 0.41431666666666667, 0.00015, 0.0001, 1.0, 0.35395, 0.57465, 0.8107333333333333, 0.07408333333333333, 0.06675, 0.22286666666666666, 1.0, 0.24456666666666665, 0.09301666666666666, 1.0, 0.6544, 0.06291666666666666, 1.0, 0.014066666666666667, 0.03755, 0.10813333333333333, 0.008466666666666667, 1.0, 1.0, 0.0601, 0.021016666666666666, 0.00021666666666666666, 1.0, 0.6654166666666667, 0.06533333333333333, 0.47695, 0.03813333333333333, 0.21148333333333333, 0.3024, 0.11031666666666666, 0.5325833333333333, 0.004416666666666667, 0.00095, 0.54865, 0.07558333333333334, 5e-05, 0.1813, 0.5106833333333334, 0.004433333333333333, 0.5298833333333334, 1.0, 0.07305, 0.11123333333333334, 0.8291, 0.19941666666666666, 0.0163, 0.00036666666666666667, 0.004166666666666667, 0.036833333333333336, 0.6621, 0.007783333333333333, 0.26426666666666665, 0.20011666666666666, 0.8480666666666666, 0.0011833333333333333, 0.15445, 6.666666666666667e-05, 0.050383333333333336, 0.007366666666666666, 0.20078333333333334, 0.0766, 0.023633333333333333, 0.39626666666666666, 0.027066666666666666, 0.033716666666666666, 0.13175, 0.33971666666666667, 0.016866666666666665, 0.3141833333333333, 0.25905, 0.00075, 0.5041166666666667, 0.47775, 1.0, 0.6123333333333333, 0.008966666666666666, 0.16026666666666667, 0.06345, 0.6132, 0.02505, 0.4111166666666667, 0.16831666666666667, 0.4712166666666667, 0.2903, 0.36383333333333334, 0.5601833333333334, 0.43295, 1.6666666666666667e-05, 0.6293, 3.3333333333333335e-05, 0.23856666666666668, 1.6666666666666667e-05, 0.05055, 0.0011, 0.0056166666666666665, 0.04501666666666667, 0.03575, 0.08196666666666666, 1.0, 1.0, 1.6666666666666667e-05, 0.5376333333333333, 0.32455, 0.20178333333333334, 0.2614, 0.029733333333333334, 0.7221833333333333, 0.29378333333333334, 0.4647, 0.1656, 1.0, 1.0, 0.028066666666666667, 0.1149, 0.33941666666666664, 0.42606666666666665, 1.0, 1.0, 0.5850333333333333, 0.5522, 0.12688333333333332, 0.011433333333333334, 0.028733333333333333, 0.3566666666666667, 1.0, 0.037783333333333335, 0.5204833333333333, 0.09261666666666667, 0.044333333333333336, 0.7979333333333334, 0.4192, 0.07601666666666666, 0.419, 0.00015, 0.73295, 0.10081666666666667, 1.0, 0.0006333333333333333, 0.0001, 1.0, 0.11333333333333333, 0.007183333333333333, 0.03005, 0.22691666666666666, 0.04036666666666667, 1.0, 0.2559, 1.0, 1.0, 0.39365, 0.012833333333333334, 0.4325333333333333, 0.09995, 1.0, 0.5483166666666667, 0.49606666666666666, 0.20031666666666667, 0.04416666666666667, 0.8169833333333333, 1.6666666666666667e-05, 0.14035, 0.04945, 0.16396666666666668, 0.43778333333333336, 1.0, 0.21865, 0.5532166666666667, 0.13065, 1.0, 0.10206666666666667, 1.0, 0.0175, 0.8917166666666667, 0.0002, 0.4525166666666667, 0.0674, 0.4874, 0.021666666666666667, 0.20356666666666667, 0.020933333333333335, 0.005266666666666667, 0.010216666666666667, 0.8518333333333333, 0.6978666666666666, 0.029616666666666666, 0.0853, 0.5615833333333333, 0.06443333333333333, 0.6366, 0.3285166666666667, 0.7099166666666666, 0.2073, 1.0, 0.7767333333333334, 0.2800166666666667, 0.1738, 0.6712333333333333, 0.0514, 0.4071666666666667, 0.5063, 0.6121, 0.04065, 0.14425, 3.3333333333333335e-05, 1.0, 0.36315, 1.0, 0.4925833333333333, 0.36123333333333335, 0.17373333333333332, 0.8154666666666667, 0.4941333333333333, 0.07321666666666667, 0.16563333333333333, 1.6666666666666667e-05, 0.21126666666666666, 0.03868333333333333, 0.7997, 0.01475, 6.666666666666667e-05, 0.2823333333333333, 0.009683333333333334, 0.0711, 0.22623333333333334, 0.0876, 0.030416666666666668, 5e-05, 0.07431666666666667, 0.6892166666666667, 0.3953833333333333, 0.36875, 0.6507, 0.20285, 1.0, 0.11526666666666667, 0.05676666666666667, 0.11028333333333333, 0.3857, 0.47003333333333336, 0.037783333333333335, 0.06823333333333333, 0.8342166666666667, 1.0, 1.0, 1.6666666666666667e-05, 0.1147, 0.66435, 1.0, 0.82525, 0.045083333333333336, 0.008816666666666667, 0.016383333333333333, 0.7635333333333333, 0.4517, 0.04766666666666667, 0.2844333333333333, 0.48951666666666666, 0.23951666666666666, 0.058883333333333336, 0.19435, 0.004966666666666667, 1.6666666666666667e-05, 0.4880333333333333, 0.5792333333333334, 0.00085, 0.07978333333333333, 0.37661666666666666, 0.21125, 0.19588333333333333, 0.1508, 1.0, 0.04745, 0.0581, 0.20058333333333334, 0.0085, 0.7370166666666667, 0.00035, 0.00035, 0.5603833333333333, 0.0298, 1.0, 0.39313333333333333, 0.7752666666666667, 0.3555333333333333, 0.6859166666666666, 0.7136333333333333, 0.09928333333333333, 1.0, 0.3813666666666667, 0.05433333333333333, 1.0, 0.08641666666666667, 3.3333333333333335e-05, 1.6666666666666667e-05, 0.10688333333333333, 1.0, 0.00023333333333333333, 0.04145, 0.11025, 0.21445, 0.22161666666666666, 0.0411, 0.44083333333333335, 0.0057666666666666665, 0.07505, 0.0044666666666666665, 0.011316666666666666, 0.08125, 0.00036666666666666667, 0.09938333333333334, 0.01165, 0.37665, 1.0, 0.2712, 0.2826666666666667, 0.06796666666666666, 0.53685, 0.3012166666666667, 1.0, 0.27708333333333335, 0.6956666666666667, 0.09805, 0.01721666666666667, 0.8025, 0.8997, 0.06735, 0.0025833333333333333, 0.16666666666666666, 0.3807, 0.11356666666666666, 0.0288, 0.59785, 1.6666666666666667e-05, 0.26805, 0.0019333333333333333, 0.24783333333333332, 0.18838333333333335, 0.16798333333333335, 0.43893333333333334, 0.4568333333333333, 0.7793666666666667, 0.3813666666666667, 1.0, 0.36105, 0.5751, 0.7258333333333333, 0.0003333333333333333, 0.12106666666666667, 0.7779333333333334, 0.07743333333333334, 0.12328333333333333, 1.0, 0.16963333333333333, 0.002116666666666667, 0.21456666666666666, 0.024433333333333335, 0.5096166666666667, 0.03298333333333334, 0.5382166666666667, 0.4636166666666667, 0.40298333333333336, 0.45913333333333334, 0.4396333333333333, 0.13168333333333335, 0.06608333333333333, 1.0, 0.8683166666666666, 0.6594833333333333, 0.014316666666666667, 0.43646666666666667, 0.062183333333333334, 0.143, 1.0, 1.0, 0.10593333333333334, 0.18441666666666667, 0.69085, 0.3334, 0.005383333333333334, 0.5187833333333334, 0.04415, 0.33016666666666666, 0.017333333333333333, 0.003683333333333333, 0.012516666666666667, 0.8722166666666666, 0.48636666666666667, 0.58055, 0.12068333333333334, 0.06783333333333333, 0.801, 0.3407833333333333, 0.3461, 0.0024333333333333334, 0.11575, 0.12315, 0.0187, 0.21465, 0.7344833333333334, 0.0014833333333333332, 0.4182666666666667, 0.5623833333333333, 0.06305, 0.017466666666666665, 0.39261666666666667, 0.42601666666666665, 1.0, 0.5196833333333334, 0.013983333333333334, 0.7528833333333333, 0.7548833333333334, 0.6343166666666666, 0.8665833333333334, 0.21983333333333333, 0.44326666666666664, 0.7244166666666667, 0.05923333333333333, 0.007866666666666666, 0.13353333333333334, 0.0033, 0.6389, 0.0056, 0.0781, 0.44743333333333335, 0.24465, 0.6133666666666666, 0.026916666666666665, 0.039683333333333334, 0.3875166666666667, 0.00018333333333333334, 0.032433333333333335, 0.06793333333333333, 0.0054, 0.48356666666666664, 0.006266666666666667, 0.5788166666666666, 1.0, 0.13456666666666667, 0.29136666666666666, 0.3645833333333333, 0.5171, 0.38251666666666667, 0.013133333333333334, 0.055433333333333334, 0.73815, 0.6476166666666666, 0.6139666666666667, 0.10898333333333333, 0.00255, 0.22975, 0.017666666666666667, 0.016683333333333335, 0.65775, 0.4588833333333333, 1.0, 0.6768166666666666, 0.21685, 0.12011666666666666, 0.08398333333333333, 0.27198333333333335, 0.005066666666666666, 0.25933333333333336, 0.2572833333333333, 1.0, 0.2006, 0.25378333333333336, 1.0, 0.19373333333333334, 0.45916666666666667, 0.1644, 0.61185, 0.00035, 1.0, 0.5011333333333333, 0.7082166666666667, 0.016266666666666665, 0.007633333333333333, 0.6790166666666667, 0.08025, 0.5691833333333334, 0.1294, 0.0037333333333333333, 0.0383, 0.5710333333333333, 0.66335, 0.06368333333333333, 1.0, 1.0, 0.14541666666666667, 0.8075166666666667, 0.8289166666666666, 0.8152, 0.10353333333333334, 0.01755, 0.25455, 0.0699, 0.4487, 0.02475, 1.0, 0.1017, 0.23551666666666668, 0.05815, 0.0007, 0.1008, 0.23745, 0.57795, 0.7536333333333334, 0.045483333333333334, 0.045516666666666664, 0.06793333333333333, 0.4832, 1.0, 0.81275, 0.5870833333333333, 0.00415, 0.49101666666666666, 0.015716666666666667, 0.10515, 0.5249666666666667, 0.76675, 0.7128833333333333, 0.6297833333333334, 1.0, 0.6924166666666667, 1.0, 0.2167, 0.0013833333333333334, 0.3617, 0.3503833333333333, 0.7197166666666667, 1.0, 0.09885, 1.0, 0.18908333333333333, 0.010783333333333334, 1.0, 0.8472666666666666, 0.42141666666666666, 0.9049333333333334, 0.25153333333333333, 0.2531, 0.09613333333333333, 1.0, 0.3532666666666667, 0.8009833333333334, 0.7976, 0.5822666666666667, 0.3399333333333333, 1.0, 0.4936333333333333, 0.34115, 0.00225, 0.6533333333333333, 1.0, 0.59625, 0.7078833333333333, 0.24996666666666667, 0.28673333333333334, 0.12876666666666667, 0.26281666666666664, 0.0092, 0.003183333333333333, 0.5135166666666666, 0.4991833333333333, 0.039716666666666664, 0.0042833333333333334, 0.13606666666666667, 0.8101333333333334, 0.31233333333333335, 0.09675, 1.0, 0.48545, 0.0513, 0.0014166666666666668, 0.2990833333333333, 0.7156333333333333, 0.4089, 0.6227666666666667, 0.12701666666666667, 0.0008333333333333334, 0.7769333333333334, 1.6666666666666667e-05, 0.002766666666666667, 0.8666166666666667, 0.009083333333333334, 0.23161666666666667, 0.2659666666666667, 0.012333333333333333, 0.83585, 0.3479, 0.24175, 0.03771666666666667, 0.45093333333333335, 0.012983333333333333, 0.00011666666666666667, 0.03766666666666667, 0.49073333333333335, 0.8648833333333333, 0.5869666666666666, 0.0113, 0.5312333333333333, 0.2841, 0.03153333333333333, 0.49825, 0.20035, 0.16323333333333334, 0.5962666666666666, 0.0604, 0.34968333333333335, 0.4271333333333333, 0.14543333333333333, 0.037983333333333334, 0.4892, 1.0, 0.9235333333333333, 0.20853333333333332, 0.5846833333333333, 0.11206666666666666, 0.195, 0.41495, 0.02005, 0.7488833333333333, 5e-05, 0.21148333333333333, 0.06745, 0.6381833333333333, 0.1658, 0.00165, 0.38216666666666665, 0.05556666666666667, 0.35068333333333335, 0.018333333333333333, 0.3083, 0.4341833333333333, 1.6666666666666667e-05, 0.5887, 1.0, 0.2082, 0.25375, 0.4216666666666667, 0.48345, 1.0, 0.2405, 0.19335, 0.23875, 0.38555, 0.00011666666666666667, 0.45098333333333335, 0.0022333333333333333, 0.72005, 0.07086666666666666, 0.2208, 0.87215, 0.25388333333333335, 0.25538333333333335, 0.18658333333333332, 0.2448, 0.6009333333333333, 0.67185, 0.0010833333333333333, 0.5807666666666667, 0.17966666666666667, 0.26135, 0.62005, 0.0252, 0.0017166666666666667, 0.7648666666666667, 1.0, 0.09393333333333333, 0.7062666666666667, 0.03886666666666667, 0.04935, 0.00385, 0.21306666666666665, 0.13348333333333334, 0.7250166666666666, 0.06075, 0.8145833333333333, 0.03373333333333333, 1.0, 0.4643, 0.3608166666666667, 0.5724166666666667, 1.0, 0.041683333333333336, 0.004683333333333334, 0.13591666666666666, 0.03498333333333333, 1.0, 0.5329333333333334, 0.5068666666666667, 0.07281666666666667, 0.34445, 0.00725, 1.0, 0.48885, 0.3907833333333333, 0.23818333333333333, 0.6871666666666667, 0.05483333333333333, 0.11188333333333333, 0.12745, 0.3858666666666667, 0.0006166666666666666, 0.0692, 0.252, 0.20766666666666667, 0.6787166666666666, 0.12691666666666668, 0.0068, 0.6707833333333333, 0.2901, 0.09805, 0.021383333333333334, 0.06415, 0.0215, 0.7085666666666667, 1.0, 0.29065, 0.36185, 0.7282833333333333, 1.0, 0.43048333333333333, 1.0, 0.00335, 1.0, 0.16188333333333332, 1.0, 0.00013333333333333334, 0.7837333333333333, 1.0, 0.04923333333333333, 0.7314666666666667, 0.5129333333333334, 0.8292333333333334, 0.012183333333333332, 0.0198, 0.5884833333333334, 0.0328, 0.30138333333333334, 0.8208666666666666, 0.21805, 0.38616666666666666, 0.08285, 0.00013333333333333334, 0.89405, 0.29793333333333333, 0.37551666666666667, 0.5126833333333334, 0.017816666666666668, 0.8754166666666666, 0.53315, 0.15395, 0.05361666666666667, 0.4461833333333333, 0.6066, 0.5496, 1.0, 1.0, 0.57855, 0.0011833333333333333, 0.3122333333333333, 0.23086666666666666, 0.66975, 0.5313, 0.14738333333333334, 0.16031666666666666, 1.0, 0.6148666666666667, 0.32175, 0.6730833333333334, 1.6666666666666667e-05, 1.0, 0.8289166666666666, 0.031433333333333334, 1.0, 0.13111666666666666, 0.015316666666666666, 0.4766166666666667, 0.03331666666666667, 1.0, 0.41701666666666665, 0.0015166666666666666, 0.9364666666666667, 0.83845, 1.0, 0.6928333333333333, 0.5890833333333333, 1.0, 0.06655, 1.0, 0.025016666666666666, 0.002033333333333333, 0.5083, 0.07043333333333333, 1.0, 0.8719, 1.0, 0.4779333333333333, 1.6666666666666667e-05, 0.05701666666666667, 0.2079, 0.12071666666666667, 0.6597833333333334, 0.018283333333333332, 0.17955, 0.6240666666666667, 0.3826, 0.6160833333333333, 0.021166666666666667, 0.4292, 0.4071666666666667, 1.0, 1.0, 0.08858333333333333, 0.6598, 0.47768333333333335, 0.9224166666666667, 0.01, 0.15035, 0.19815, 0.01055, 1.0, 1.0, 0.7676166666666666, 0.5888666666666666, 0.009433333333333334, 0.09525, 0.038483333333333335, 0.45531666666666665, 0.08871666666666667, 0.06423333333333334, 0.408, 0.4797166666666667, 0.50845, 0.8014666666666667, 0.009083333333333334, 0.06155, 0.25988333333333336, 0.6871166666666667, 0.0244, 0.06253333333333333, 0.01035, 0.6385166666666666, 0.6688666666666667, 0.6159833333333333, 0.7052833333333334, 0.0433, 1.0, 0.2639, 0.23915, 0.25526666666666664, 0.22063333333333332, 0.032, 0.74005, 0.2946166666666667, 0.0006833333333333333, 0.4168, 0.33716666666666667, 0.017466666666666665, 0.6761333333333334, 0.02765, 0.0128, 0.41428333333333334, 0.5212333333333333, 0.68315, 8.333333333333333e-05, 0.20243333333333333, 0.15198333333333333, 0.06055, 0.10873333333333333, 1.0, 0.41956666666666664, 0.68195, 0.0012, 0.04473333333333333, 1.0, 0.17091666666666666, 0.22933333333333333, 0.5884, 0.5680333333333333, 0.04585, 0.0012666666666666666, 0.21683333333333332, 0.6324, 0.04775, 0.006016666666666667, 1.0, 0.6627833333333333, 0.1913, 0.49833333333333335, 0.6118833333333333, 0.34325, 0.09756666666666666, 0.70535, 0.05561666666666667, 0.35591666666666666, 0.41725, 3.3333333333333335e-05, 0.07665, 0.5488666666666666, 0.14465, 0.00011666666666666667, 0.12816666666666668, 0.7791, 1.0, 0.0962, 0.76245, 1.0, 1.0, 1.0, 0.5362, 0.5270666666666667, 0.35641666666666666, 1.6666666666666667e-05, 0.47336666666666666, 0.56705, 0.024183333333333334, 0.5111833333333333, 0.5596666666666666, 0.6809333333333333, 0.60295, 0.027966666666666667, 0.34796666666666665, 0.18345, 0.0014666666666666667, 0.031483333333333335, 0.03966666666666667, 0.11865, 0.7791666666666667, 0.2378, 0.7460833333333333, 0.6740666666666667, 1.0, 0.9205333333333333, 0.46425, 0.4199, 1.0, 0.23915, 0.7598, 0.38805, 0.00625, 0.07801666666666666, 0.3308833333333333]\n"
     ]
    },
    {
     "data": {
      "text/plain": [
       "(array([237.,  91.,  63.,  41.,  56.,  39.,  26.,  40.,  37.,  41.,  34.,\n",
       "         34.,  26.,  37.,  25.,  21.,  26.,  14.,   5., 108.]),\n",
       " array([1.66666667e-05, 5.00158333e-02, 1.00015000e-01, 1.50014167e-01,\n",
       "        2.00013333e-01, 2.50012500e-01, 3.00011667e-01, 3.50010833e-01,\n",
       "        4.00010000e-01, 4.50009167e-01, 5.00008333e-01, 5.50007500e-01,\n",
       "        6.00006667e-01, 6.50005833e-01, 7.00005000e-01, 7.50004167e-01,\n",
       "        8.00003333e-01, 8.50002500e-01, 9.00001667e-01, 9.50000833e-01,\n",
       "        1.00000000e+00]),\n",
       " <BarContainer object of 20 artists>)"
      ]
     },
     "execution_count": 15,
     "metadata": {},
     "output_type": "execute_result"
    },
    {
     "data": {
      "image/png": "[encoded data removed]",
      "text/plain": [
       "<Figure size 640x480 with 1 Axes>"
      ]
     },
     "metadata": {},
     "output_type": "display_data"
    }
   ],
   "source": [
    "raw_m_vals = compute_m_vals(raw_pixel_feats, labels, 1000)\n",
    "print(raw_m_vals)\n",
    "plt.hist(raw_m_vals, bins=20)"
   ]
  },
  {
   "cell_type": "code",
   "execution_count": 16,
   "metadata": {},
   "outputs": [
    {
     "name": "stdout",
     "output_type": "stream",
     "text": [
      "[1.0, 1.6666666666666667e-05, 0.0038666666666666667, 0.0018166666666666667, 1.6666666666666667e-05, 0.01395, 0.00125, 1.6666666666666667e-05, 0.00023333333333333333, 1.6666666666666667e-05, 5e-05, 6.666666666666667e-05, 3.3333333333333335e-05, 1.6666666666666667e-05, 1.6666666666666667e-05, 1.6666666666666667e-05, 5e-05, 0.00016666666666666666, 8.333333333333333e-05, 1.6666666666666667e-05, 0.0004166666666666667, 3.3333333333333335e-05, 1.0, 1.6666666666666667e-05, 0.00015, 0.0001, 1.6666666666666667e-05, 1.6666666666666667e-05, 6.666666666666667e-05, 1.0, 3.3333333333333335e-05, 6.666666666666667e-05, 1.6666666666666667e-05, 1.6666666666666667e-05, 0.00018333333333333334, 0.00046666666666666666, 1.6666666666666667e-05, 6.666666666666667e-05, 1.6666666666666667e-05, 8.333333333333333e-05, 5e-05, 1.6666666666666667e-05, 1.0, 1.6666666666666667e-05, 8.333333333333333e-05, 0.0008833333333333333, 0.0005333333333333334, 1.6666666666666667e-05, 3.3333333333333335e-05, 8.333333333333333e-05, 5e-05, 0.003533333333333333, 1.6666666666666667e-05, 1.6666666666666667e-05, 5e-05, 1.6666666666666667e-05, 1.0, 1.6666666666666667e-05, 1.6666666666666667e-05, 3.3333333333333335e-05, 1.6666666666666667e-05, 5e-05, 5e-05, 1.6666666666666667e-05, 1.6666666666666667e-05, 1.6666666666666667e-05, 1.0, 0.0002, 1.6666666666666667e-05, 3.3333333333333335e-05, 3.3333333333333335e-05, 0.0002, 1.6666666666666667e-05, 1.6666666666666667e-05, 6.666666666666667e-05, 1.0, 1.6666666666666667e-05, 8.333333333333333e-05, 3.3333333333333335e-05, 3.3333333333333335e-05, 3.3333333333333335e-05, 1.6666666666666667e-05, 0.00018333333333333334, 3.3333333333333335e-05, 0.0006833333333333333, 0.00016666666666666666, 3.3333333333333335e-05, 3.3333333333333335e-05, 3.3333333333333335e-05, 1.6666666666666667e-05, 1.6666666666666667e-05, 3.3333333333333335e-05, 5e-05, 1.6666666666666667e-05, 6.666666666666667e-05, 1.6666666666666667e-05, 1.6666666666666667e-05, 1.0, 1.6666666666666667e-05, 1.6666666666666667e-05, 3.3333333333333335e-05, 0.00011666666666666667, 6.666666666666667e-05, 8.333333333333333e-05, 3.3333333333333335e-05, 0.0002, 0.00755, 8.333333333333333e-05, 1.6666666666666667e-05, 1.6666666666666667e-05, 1.6666666666666667e-05, 3.3333333333333335e-05, 1.6666666666666667e-05, 0.00015, 1.6666666666666667e-05, 3.3333333333333335e-05, 1.6666666666666667e-05, 1.6666666666666667e-05, 3.3333333333333335e-05, 0.0011666666666666668, 0.0001, 0.00015, 1.6666666666666667e-05, 3.3333333333333335e-05, 5e-05, 1.6666666666666667e-05, 6.666666666666667e-05, 0.00016666666666666666, 0.0042, 1.6666666666666667e-05, 1.0, 1.6666666666666667e-05, 3.3333333333333335e-05, 5e-05, 1.6666666666666667e-05, 1.6666666666666667e-05, 1.6666666666666667e-05, 0.00016666666666666666, 0.0003, 1.6666666666666667e-05, 1.6666666666666667e-05, 0.00325, 0.0011333333333333334, 1.6666666666666667e-05, 1.6666666666666667e-05, 1.6666666666666667e-05, 6.666666666666667e-05, 3.3333333333333335e-05, 1.6666666666666667e-05, 1.6666666666666667e-05, 1.6666666666666667e-05, 8.333333333333333e-05, 6.666666666666667e-05, 0.0006, 1.6666666666666667e-05, 1.0, 1.0, 0.00011666666666666667, 0.00013333333333333334, 0.00011666666666666667, 1.6666666666666667e-05, 1.6666666666666667e-05, 1.6666666666666667e-05, 1.6666666666666667e-05, 5e-05, 1.6666666666666667e-05, 3.3333333333333335e-05, 5e-05, 8.333333333333333e-05, 1.6666666666666667e-05, 1.6666666666666667e-05, 3.3333333333333335e-05, 3.3333333333333335e-05, 1.0, 1.0, 1.6666666666666667e-05, 0.01365, 1.6666666666666667e-05, 3.3333333333333335e-05, 3.3333333333333335e-05, 1.6666666666666667e-05, 1.0, 0.004933333333333333, 1.6666666666666667e-05, 5e-05, 3.3333333333333335e-05, 8.333333333333333e-05, 6.666666666666667e-05, 1.6666666666666667e-05, 1.6666666666666667e-05, 6.666666666666667e-05, 1.6666666666666667e-05, 0.0004166666666666667, 0.00021666666666666666, 3.3333333333333335e-05, 0.030416666666666668, 1.0, 0.002183333333333333, 1.6666666666666667e-05, 3.3333333333333335e-05, 0.0009333333333333333, 1.6666666666666667e-05, 3.3333333333333335e-05, 1.6666666666666667e-05, 1.0, 3.3333333333333335e-05, 0.0013, 1.6666666666666667e-05, 0.0017166666666666667, 1.6666666666666667e-05, 6.666666666666667e-05, 0.0006833333333333333, 3.3333333333333335e-05, 6.666666666666667e-05, 6.666666666666667e-05, 1.6666666666666667e-05, 1.6666666666666667e-05, 1.6666666666666667e-05, 1.6666666666666667e-05, 0.00011666666666666667, 0.00025, 1.0, 3.3333333333333335e-05, 5e-05, 3.3333333333333335e-05, 1.0, 1.6666666666666667e-05, 1.0, 1.6666666666666667e-05, 0.022616666666666667, 1.6666666666666667e-05, 1.6666666666666667e-05, 1.6666666666666667e-05, 0.017816666666666668, 1.6666666666666667e-05, 1.6666666666666667e-05, 3.3333333333333335e-05, 6.666666666666667e-05, 1.6666666666666667e-05, 0.0007333333333333333, 0.0012166666666666667, 0.00023333333333333333, 0.00015, 1.6666666666666667e-05, 0.0002, 3.3333333333333335e-05, 8.333333333333333e-05, 0.0003333333333333333, 0.0002, 1.0, 1.6666666666666667e-05, 1.6666666666666667e-05, 6.666666666666667e-05, 3.3333333333333335e-05, 3.3333333333333335e-05, 0.00016666666666666666, 1.6666666666666667e-05, 3.3333333333333335e-05, 1.6666666666666667e-05, 3.3333333333333335e-05, 5e-05, 1.0, 1.6666666666666667e-05, 1.0, 1.6666666666666667e-05, 3.3333333333333335e-05, 0.0005, 3.3333333333333335e-05, 0.00013333333333333334, 1.6666666666666667e-05, 0.00038333333333333334, 1.6666666666666667e-05, 5e-05, 1.6666666666666667e-05, 3.3333333333333335e-05, 1.6666666666666667e-05, 8.333333333333333e-05, 5e-05, 0.0001, 1.6666666666666667e-05, 0.0011166666666666666, 1.6666666666666667e-05, 6.666666666666667e-05, 1.6666666666666667e-05, 3.3333333333333335e-05, 1.6666666666666667e-05, 3.3333333333333335e-05, 0.0135, 1.6666666666666667e-05, 5e-05, 1.0, 1.6666666666666667e-05, 0.0008833333333333333, 1.6666666666666667e-05, 1.6666666666666667e-05, 5e-05, 0.0005833333333333334, 0.00015, 0.0021666666666666666, 1.0, 1.0, 3.3333333333333335e-05, 3.3333333333333335e-05, 1.6666666666666667e-05, 1.0, 0.0002666666666666667, 0.00018333333333333334, 0.00095, 1.6666666666666667e-05, 1.6666666666666667e-05, 0.01345, 1.6666666666666667e-05, 1.6666666666666667e-05, 0.0022333333333333333, 3.3333333333333335e-05, 1.6666666666666667e-05, 0.0016333333333333334, 3.3333333333333335e-05, 3.3333333333333335e-05, 1.6666666666666667e-05, 5e-05, 1.6666666666666667e-05, 3.3333333333333335e-05, 1.6666666666666667e-05, 0.00028333333333333335, 1.6666666666666667e-05, 1.6666666666666667e-05, 1.0, 0.0073, 1.6666666666666667e-05, 5e-05, 1.6666666666666667e-05, 0.005033333333333333, 6.666666666666667e-05, 5e-05, 0.00015, 0.00021666666666666666, 1.0, 1.6666666666666667e-05, 3.3333333333333335e-05, 8.333333333333333e-05, 0.011333333333333334, 0.0031, 0.002683333333333333, 0.00016666666666666666, 0.00655, 0.00031666666666666665, 0.0002666666666666667, 1.6666666666666667e-05, 0.00031666666666666665, 0.00021666666666666666, 0.00013333333333333334, 1.0, 1.6666666666666667e-05, 5e-05, 5e-05, 0.0009666666666666667, 0.0012166666666666667, 0.0005166666666666667, 1.6666666666666667e-05, 3.3333333333333335e-05, 3.3333333333333335e-05, 0.00018333333333333334, 5e-05, 0.00015, 3.3333333333333335e-05, 1.6666666666666667e-05, 0.0061, 0.007, 1.0, 1.6666666666666667e-05, 0.00011666666666666667, 0.0001, 3.3333333333333335e-05, 0.00015, 1.0, 8.333333333333333e-05, 3.3333333333333335e-05, 1.6666666666666667e-05, 3.3333333333333335e-05, 0.02435, 1.6666666666666667e-05, 0.00585, 1.6666666666666667e-05, 0.0009333333333333333, 6.666666666666667e-05, 6.666666666666667e-05, 5e-05, 1.6666666666666667e-05, 1.6666666666666667e-05, 5e-05, 1.6666666666666667e-05, 3.3333333333333335e-05, 0.00011666666666666667, 1.6666666666666667e-05, 0.00016666666666666666, 0.00036666666666666667, 3.3333333333333335e-05, 8.333333333333333e-05, 1.0, 5e-05, 0.0042, 3.3333333333333335e-05, 3.3333333333333335e-05, 1.6666666666666667e-05, 1.6666666666666667e-05, 0.008283333333333334, 1.6666666666666667e-05, 1.0, 1.6666666666666667e-05, 3.3333333333333335e-05, 1.6666666666666667e-05, 0.0006333333333333333, 0.0029333333333333334, 0.0019166666666666666, 0.0001, 6.666666666666667e-05, 0.0036166666666666665, 1.6666666666666667e-05, 1.6666666666666667e-05, 0.00038333333333333334, 1.6666666666666667e-05, 0.0001, 0.00011666666666666667, 0.0246, 6.666666666666667e-05, 5e-05, 1.6666666666666667e-05, 6.666666666666667e-05, 1.6666666666666667e-05, 1.0, 1.6666666666666667e-05, 1.6666666666666667e-05, 5e-05, 1.6666666666666667e-05, 6.666666666666667e-05, 0.00015, 1.6666666666666667e-05, 8.333333333333333e-05, 0.00016666666666666666, 0.00011666666666666667, 1.6666666666666667e-05, 1.6666666666666667e-05, 1.6666666666666667e-05, 1.6666666666666667e-05, 1.6666666666666667e-05, 8.333333333333333e-05, 3.3333333333333335e-05, 1.6666666666666667e-05, 1.6666666666666667e-05, 1.6666666666666667e-05, 0.00016666666666666666, 1.6666666666666667e-05, 3.3333333333333335e-05, 6.666666666666667e-05, 5e-05, 1.6666666666666667e-05, 1.6666666666666667e-05, 0.0039, 1.6666666666666667e-05, 0.00031666666666666665, 1.6666666666666667e-05, 1.6666666666666667e-05, 1.0, 0.0001, 1.6666666666666667e-05, 0.0013833333333333334, 0.02305, 0.0005666666666666667, 1.6666666666666667e-05, 3.3333333333333335e-05, 1.6666666666666667e-05, 0.0014, 0.00015, 3.3333333333333335e-05, 1.6666666666666667e-05, 5e-05, 1.6666666666666667e-05, 1.6666666666666667e-05, 1.6666666666666667e-05, 1.6666666666666667e-05, 3.3333333333333335e-05, 0.0004333333333333333, 8.333333333333333e-05, 0.00105, 5e-05, 8.333333333333333e-05, 1.6666666666666667e-05, 1.6666666666666667e-05, 0.01265, 0.00645, 1.6666666666666667e-05, 0.0004166666666666667, 0.00018333333333333334, 0.0015666666666666667, 1.6666666666666667e-05, 0.0001, 1.6666666666666667e-05, 0.00036666666666666667, 0.012, 0.00028333333333333335, 5e-05, 0.00011666666666666667, 5e-05, 1.6666666666666667e-05, 5e-05, 3.3333333333333335e-05, 1.6666666666666667e-05, 6.666666666666667e-05, 1.6666666666666667e-05, 0.00011666666666666667, 6.666666666666667e-05, 0.0014666666666666667, 1.6666666666666667e-05, 0.004933333333333333, 1.6666666666666667e-05, 1.6666666666666667e-05, 1.6666666666666667e-05, 0.0007333333333333333, 1.6666666666666667e-05, 1.6666666666666667e-05, 1.6666666666666667e-05, 1.6666666666666667e-05, 0.00011666666666666667, 0.00011666666666666667, 0.0075, 1.6666666666666667e-05, 1.6666666666666667e-05, 1.6666666666666667e-05, 1.0, 1.6666666666666667e-05, 0.004216666666666666, 5e-05, 1.6666666666666667e-05, 0.01015, 1.6666666666666667e-05, 0.0017333333333333333, 1.6666666666666667e-05, 3.3333333333333335e-05, 1.6666666666666667e-05, 1.6666666666666667e-05, 1.6666666666666667e-05, 1.6666666666666667e-05, 1.0, 3.3333333333333335e-05, 1.6666666666666667e-05, 1.6666666666666667e-05, 0.022883333333333332, 1.6666666666666667e-05, 3.3333333333333335e-05, 3.3333333333333335e-05, 1.6666666666666667e-05, 1.6666666666666667e-05, 0.0025833333333333333, 3.3333333333333335e-05, 3.3333333333333335e-05, 5e-05, 1.6666666666666667e-05, 1.6666666666666667e-05, 1.6666666666666667e-05, 1.6666666666666667e-05, 5e-05, 1.6666666666666667e-05, 1.6666666666666667e-05, 1.6666666666666667e-05, 1.6666666666666667e-05, 6.666666666666667e-05, 0.006366666666666666, 1.0, 1.6666666666666667e-05, 1.6666666666666667e-05, 0.0005166666666666667, 1.6666666666666667e-05, 1.6666666666666667e-05, 0.0033666666666666667, 1.6666666666666667e-05, 5e-05, 0.0213, 0.00016666666666666666, 1.0, 0.0004333333333333333, 1.0, 3.3333333333333335e-05, 3.3333333333333335e-05, 5e-05, 1.6666666666666667e-05, 0.0001, 1.0, 1.6666666666666667e-05, 1.0, 3.3333333333333335e-05, 0.00055, 1.0, 6.666666666666667e-05, 0.00055, 0.00305, 1.6666666666666667e-05, 3.3333333333333335e-05, 6.666666666666667e-05, 5e-05, 0.006816666666666667, 0.00011666666666666667, 0.0010166666666666666, 0.00016666666666666666, 0.0004333333333333333, 3.3333333333333335e-05, 1.6666666666666667e-05, 0.00355, 3.3333333333333335e-05, 1.6666666666666667e-05, 1.0, 3.3333333333333335e-05, 1.6666666666666667e-05, 8.333333333333333e-05, 3.3333333333333335e-05, 1.6666666666666667e-05, 1.6666666666666667e-05, 1.6666666666666667e-05, 3.3333333333333335e-05, 1.6666666666666667e-05, 1.6666666666666667e-05, 1.6666666666666667e-05, 0.00036666666666666667, 0.00013333333333333334, 0.005116666666666667, 0.0005333333333333334, 0.0037166666666666667, 1.0, 3.3333333333333335e-05, 1.6666666666666667e-05, 0.00015, 0.0028, 3.3333333333333335e-05, 0.00016666666666666666, 3.3333333333333335e-05, 0.0018833333333333334, 3.3333333333333335e-05, 3.3333333333333335e-05, 1.6666666666666667e-05, 1.6666666666666667e-05, 1.6666666666666667e-05, 5e-05, 0.0001, 0.00015, 6.666666666666667e-05, 1.6666666666666667e-05, 8.333333333333333e-05, 5e-05, 3.3333333333333335e-05, 1.6666666666666667e-05, 0.0046166666666666665, 1.6666666666666667e-05, 0.00011666666666666667, 1.6666666666666667e-05, 3.3333333333333335e-05, 3.3333333333333335e-05, 1.6666666666666667e-05, 6.666666666666667e-05, 0.0452, 5e-05, 1.6666666666666667e-05, 0.0015333333333333334, 8.333333333333333e-05, 1.6666666666666667e-05, 0.0041, 0.0009333333333333333, 1.6666666666666667e-05, 0.0037166666666666667, 6.666666666666667e-05, 3.3333333333333335e-05, 3.3333333333333335e-05, 3.3333333333333335e-05, 0.00015, 3.3333333333333335e-05, 1.6666666666666667e-05, 0.0002666666666666667, 5e-05, 1.6666666666666667e-05, 1.6666666666666667e-05, 1.6666666666666667e-05, 5e-05, 1.6666666666666667e-05, 1.6666666666666667e-05, 1.6666666666666667e-05, 6.666666666666667e-05, 3.3333333333333335e-05, 0.0016166666666666666, 1.6666666666666667e-05, 0.00015, 1.6666666666666667e-05, 0.0003, 1.6666666666666667e-05, 5e-05, 1.0, 6.666666666666667e-05, 1.6666666666666667e-05, 1.6666666666666667e-05, 0.00021666666666666666, 1.0, 1.6666666666666667e-05, 0.00011666666666666667, 0.0030666666666666668, 1.6666666666666667e-05, 6.666666666666667e-05, 1.6666666666666667e-05, 3.3333333333333335e-05, 1.6666666666666667e-05, 1.6666666666666667e-05, 0.0019, 5e-05, 3.3333333333333335e-05, 1.6666666666666667e-05, 0.00021666666666666666, 6.666666666666667e-05, 1.6666666666666667e-05, 8.333333333333333e-05, 1.6666666666666667e-05, 1.6666666666666667e-05, 0.013883333333333333, 5e-05, 0.002766666666666667, 3.3333333333333335e-05, 1.6666666666666667e-05, 0.0059, 1.0, 6.666666666666667e-05, 5e-05, 5e-05, 8.333333333333333e-05, 0.0012166666666666667, 1.6666666666666667e-05, 1.6666666666666667e-05, 3.3333333333333335e-05, 6.666666666666667e-05, 5e-05, 1.6666666666666667e-05, 5e-05, 5e-05, 5e-05, 0.009466666666666667, 0.0002, 3.3333333333333335e-05, 0.00031666666666666665, 8.333333333333333e-05, 1.6666666666666667e-05, 1.0, 0.022983333333333335, 0.006216666666666666, 1.6666666666666667e-05, 0.0010166666666666666, 6.666666666666667e-05, 1.0, 1.6666666666666667e-05, 1.6666666666666667e-05, 1.6666666666666667e-05, 1.6666666666666667e-05, 0.0042833333333333334, 1.6666666666666667e-05, 3.3333333333333335e-05, 1.6666666666666667e-05, 6.666666666666667e-05, 3.3333333333333335e-05, 3.3333333333333335e-05, 1.6666666666666667e-05, 0.0013166666666666667, 5e-05, 1.6666666666666667e-05, 6.666666666666667e-05, 0.00016666666666666666, 1.6666666666666667e-05, 1.6666666666666667e-05, 1.6666666666666667e-05, 5e-05, 1.6666666666666667e-05, 1.0, 3.3333333333333335e-05, 1.6666666666666667e-05, 0.00175, 0.0001, 0.00016666666666666666, 3.3333333333333335e-05, 3.3333333333333335e-05, 1.0, 0.0003333333333333333, 1.6666666666666667e-05, 6.666666666666667e-05, 0.00036666666666666667, 1.0, 3.3333333333333335e-05, 1.6666666666666667e-05, 0.0026666666666666666, 0.0037166666666666667, 3.3333333333333335e-05, 0.0005666666666666667, 3.3333333333333335e-05, 6.666666666666667e-05, 1.6666666666666667e-05, 1.6666666666666667e-05, 1.6666666666666667e-05, 0.0013666666666666666, 0.0026, 1.6666666666666667e-05, 5e-05, 3.3333333333333335e-05, 3.3333333333333335e-05, 0.0002666666666666667, 1.6666666666666667e-05, 3.3333333333333335e-05, 1.6666666666666667e-05, 1.6666666666666667e-05, 1.6666666666666667e-05, 5e-05, 0.0031333333333333335, 0.00013333333333333334, 1.0, 3.3333333333333335e-05, 1.6666666666666667e-05, 5e-05, 1.6666666666666667e-05, 8.333333333333333e-05, 1.6666666666666667e-05, 0.00075, 1.6666666666666667e-05, 0.0014, 5e-05, 0.00011666666666666667, 1.6666666666666667e-05, 1.6666666666666667e-05, 3.3333333333333335e-05, 3.3333333333333335e-05, 0.0174, 1.6666666666666667e-05, 1.0, 3.3333333333333335e-05, 0.00011666666666666667, 0.0052833333333333335, 0.00013333333333333334, 6.666666666666667e-05, 1.6666666666666667e-05, 0.0033333333333333335, 3.3333333333333335e-05, 0.00021666666666666666, 1.0, 0.009616666666666667, 0.0002666666666666667, 1.0, 3.3333333333333335e-05, 0.00011666666666666667, 1.6666666666666667e-05, 3.3333333333333335e-05, 1.6666666666666667e-05, 1.6666666666666667e-05, 3.3333333333333335e-05, 0.0008166666666666667, 6.666666666666667e-05, 0.00735, 1.6666666666666667e-05, 5e-05, 1.6666666666666667e-05, 3.3333333333333335e-05, 0.0038, 0.0002, 1.6666666666666667e-05, 1.6666666666666667e-05, 3.3333333333333335e-05, 6.666666666666667e-05, 1.6666666666666667e-05, 0.00025, 0.00035, 1.0, 3.3333333333333335e-05, 0.0027833333333333334, 1.6666666666666667e-05, 0.00165, 3.3333333333333335e-05, 3.3333333333333335e-05, 0.0005666666666666667, 1.6666666666666667e-05, 0.00011666666666666667, 1.0, 1.0, 0.003966666666666667, 1.6666666666666667e-05, 0.00016666666666666666, 1.6666666666666667e-05, 1.6666666666666667e-05, 3.3333333333333335e-05, 0.00013333333333333334, 0.0003, 0.005483333333333333, 8.333333333333333e-05, 1.6666666666666667e-05, 1.6666666666666667e-05, 3.3333333333333335e-05, 1.6666666666666667e-05, 8.333333333333333e-05, 0.016766666666666666, 0.00018333333333333334, 1.6666666666666667e-05, 0.0001, 5e-05, 5e-05, 0.00675, 1.6666666666666667e-05, 0.0031166666666666665, 0.00015, 1.6666666666666667e-05, 1.6666666666666667e-05, 5e-05, 1.6666666666666667e-05, 0.0002666666666666667, 0.00015, 3.3333333333333335e-05, 3.3333333333333335e-05, 1.6666666666666667e-05, 1.6666666666666667e-05, 1.6666666666666667e-05, 0.0016, 1.6666666666666667e-05, 1.6666666666666667e-05, 0.0007166666666666667, 6.666666666666667e-05, 1.6666666666666667e-05, 1.6666666666666667e-05, 1.6666666666666667e-05, 3.3333333333333335e-05, 0.0001, 3.3333333333333335e-05, 1.0, 1.6666666666666667e-05, 1.6666666666666667e-05, 1.6666666666666667e-05, 0.01195, 1.0, 0.0004, 6.666666666666667e-05, 1.6666666666666667e-05, 1.6666666666666667e-05, 1.6666666666666667e-05, 5e-05, 5e-05, 1.6666666666666667e-05, 6.666666666666667e-05, 0.00015, 1.0, 1.6666666666666667e-05, 1.6666666666666667e-05, 6.666666666666667e-05, 0.002266666666666667, 0.0001, 1.6666666666666667e-05, 3.3333333333333335e-05, 0.00016666666666666666, 0.0005833333333333334, 8.333333333333333e-05, 3.3333333333333335e-05, 0.00011666666666666667, 0.0005, 5e-05, 6.666666666666667e-05, 0.00035, 0.0003, 1.0, 1.6666666666666667e-05, 6.666666666666667e-05, 1.0, 1.0, 0.00016666666666666666, 1.6666666666666667e-05, 1.6666666666666667e-05, 8.333333333333333e-05, 1.6666666666666667e-05, 0.0009166666666666666, 1.6666666666666667e-05, 0.0004166666666666667, 1.6666666666666667e-05, 1.6666666666666667e-05, 0.00035, 0.00018333333333333334, 1.6666666666666667e-05, 1.6666666666666667e-05, 0.00085, 3.3333333333333335e-05, 8.333333333333333e-05, 0.00015, 1.6666666666666667e-05, 0.0001, 3.3333333333333335e-05, 5e-05, 3.3333333333333335e-05, 1.6666666666666667e-05, 0.00031666666666666665, 0.0007833333333333334, 0.00031666666666666665, 1.0, 0.0008833333333333333, 3.3333333333333335e-05, 3.3333333333333335e-05, 3.3333333333333335e-05, 8.333333333333333e-05, 5e-05]\n"
     ]
    },
    {
     "data": {
      "text/plain": [
       "(array([934.,   0.,   0.,   0.,   0.,   0.,   0.,   0.,   0.,   0.,   0.,\n",
       "          0.,   0.,   0.,   0.,   0.,   0.,   0.,   0.,  67.]),\n",
       " array([1.66666667e-05, 5.00158333e-02, 1.00015000e-01, 1.50014167e-01,\n",
       "        2.00013333e-01, 2.50012500e-01, 3.00011667e-01, 3.50010833e-01,\n",
       "        4.00010000e-01, 4.50009167e-01, 5.00008333e-01, 5.50007500e-01,\n",
       "        6.00006667e-01, 6.50005833e-01, 7.00005000e-01, 7.50004167e-01,\n",
       "        8.00003333e-01, 8.50002500e-01, 9.00001667e-01, 9.50000833e-01,\n",
       "        1.00000000e+00]),\n",
       " <BarContainer object of 20 artists>)"
      ]
     },
     "execution_count": 16,
     "metadata": {},
     "output_type": "execute_result"
    },
    {
     "data": {
      "image/png": "[encoded data removed]",
      "text/plain": [
       "<Figure size 640x480 with 1 Axes>"
      ]
     },
     "metadata": {},
     "output_type": "display_data"
    }
   ],
   "source": [
    "conv_m_vals = compute_m_vals(conv_feats, labels, 1000)\n",
    "print(conv_m_vals)\n",
    "plt.hist(conv_m_vals, bins=20)"
   ]
  },
  {
   "cell_type": "code",
   "execution_count": 17,
   "metadata": {},
   "outputs": [
    {
     "name": "stdout",
     "output_type": "stream",
     "text": [
      "[1.0, 1.6666666666666667e-05, 0.0038666666666666667, 0.0018166666666666667, 1.6666666666666667e-05, 0.01395, 0.00125, 1.6666666666666667e-05, 0.00023333333333333333, 1.6666666666666667e-05, 5e-05, 6.666666666666667e-05, 3.3333333333333335e-05, 1.6666666666666667e-05, 1.6666666666666667e-05, 1.6666666666666667e-05, 5e-05, 0.00016666666666666666, 8.333333333333333e-05, 1.6666666666666667e-05, 0.0004166666666666667, 3.3333333333333335e-05, 1.0, 1.6666666666666667e-05, 0.00015, 0.0001, 1.6666666666666667e-05, 1.6666666666666667e-05, 6.666666666666667e-05, 1.0, 3.3333333333333335e-05, 6.666666666666667e-05, 1.6666666666666667e-05, 1.6666666666666667e-05, 0.00018333333333333334, 0.00046666666666666666, 1.6666666666666667e-05, 6.666666666666667e-05, 1.6666666666666667e-05, 8.333333333333333e-05, 5e-05, 1.6666666666666667e-05, 1.0, 1.6666666666666667e-05, 8.333333333333333e-05, 0.0008833333333333333, 0.0005333333333333334, 1.6666666666666667e-05, 3.3333333333333335e-05, 8.333333333333333e-05, 5e-05, 0.003533333333333333, 1.6666666666666667e-05, 1.6666666666666667e-05, 5e-05, 1.6666666666666667e-05, 1.0, 1.6666666666666667e-05, 1.6666666666666667e-05, 3.3333333333333335e-05, 1.6666666666666667e-05, 5e-05, 5e-05, 1.6666666666666667e-05, 1.6666666666666667e-05, 1.6666666666666667e-05, 1.0, 0.0002, 1.6666666666666667e-05, 3.3333333333333335e-05, 3.3333333333333335e-05, 0.0002, 1.6666666666666667e-05, 1.6666666666666667e-05, 6.666666666666667e-05, 1.0, 1.6666666666666667e-05, 8.333333333333333e-05, 3.3333333333333335e-05, 3.3333333333333335e-05, 3.3333333333333335e-05, 1.6666666666666667e-05, 0.00018333333333333334, 3.3333333333333335e-05, 0.0006833333333333333, 0.00016666666666666666, 3.3333333333333335e-05, 3.3333333333333335e-05, 3.3333333333333335e-05, 1.6666666666666667e-05, 1.6666666666666667e-05, 3.3333333333333335e-05, 5e-05, 1.6666666666666667e-05, 6.666666666666667e-05, 1.6666666666666667e-05, 1.6666666666666667e-05, 1.0, 1.6666666666666667e-05, 1.6666666666666667e-05, 3.3333333333333335e-05, 0.00011666666666666667, 6.666666666666667e-05, 8.333333333333333e-05, 3.3333333333333335e-05, 0.0002, 0.00755, 8.333333333333333e-05, 1.6666666666666667e-05, 1.6666666666666667e-05, 1.6666666666666667e-05, 3.3333333333333335e-05, 1.6666666666666667e-05, 0.00015, 1.6666666666666667e-05, 3.3333333333333335e-05, 1.6666666666666667e-05, 1.6666666666666667e-05, 3.3333333333333335e-05, 0.0011666666666666668, 0.0001, 0.00015, 1.6666666666666667e-05, 3.3333333333333335e-05, 5e-05, 1.6666666666666667e-05, 6.666666666666667e-05, 0.00016666666666666666, 0.0042, 1.6666666666666667e-05, 1.0, 1.6666666666666667e-05, 3.3333333333333335e-05, 5e-05, 1.6666666666666667e-05, 1.6666666666666667e-05, 1.6666666666666667e-05, 0.00016666666666666666, 0.0003, 1.6666666666666667e-05, 1.6666666666666667e-05, 0.00325, 0.0011333333333333334, 1.6666666666666667e-05, 1.6666666666666667e-05, 1.6666666666666667e-05, 6.666666666666667e-05, 3.3333333333333335e-05, 1.6666666666666667e-05, 1.6666666666666667e-05, 1.6666666666666667e-05, 8.333333333333333e-05, 6.666666666666667e-05, 0.0006, 1.6666666666666667e-05, 1.0, 1.0, 0.00011666666666666667, 0.00013333333333333334, 0.00011666666666666667, 1.6666666666666667e-05, 1.6666666666666667e-05, 1.6666666666666667e-05, 1.6666666666666667e-05, 5e-05, 1.6666666666666667e-05, 3.3333333333333335e-05, 5e-05, 8.333333333333333e-05, 1.6666666666666667e-05, 1.6666666666666667e-05, 3.3333333333333335e-05, 3.3333333333333335e-05, 1.0, 1.0, 1.6666666666666667e-05, 0.01365, 1.6666666666666667e-05, 3.3333333333333335e-05, 3.3333333333333335e-05, 1.6666666666666667e-05, 1.0, 0.004933333333333333, 1.6666666666666667e-05, 5e-05, 3.3333333333333335e-05, 8.333333333333333e-05, 6.666666666666667e-05, 1.6666666666666667e-05, 1.6666666666666667e-05, 6.666666666666667e-05, 1.6666666666666667e-05, 0.0004166666666666667, 0.00021666666666666666, 3.3333333333333335e-05, 0.030416666666666668, 1.0, 0.002183333333333333, 1.6666666666666667e-05, 3.3333333333333335e-05, 0.0009333333333333333, 1.6666666666666667e-05, 3.3333333333333335e-05, 1.6666666666666667e-05, 1.0, 3.3333333333333335e-05, 0.0013, 1.6666666666666667e-05, 0.0017166666666666667, 1.6666666666666667e-05, 6.666666666666667e-05, 0.0006833333333333333, 3.3333333333333335e-05, 6.666666666666667e-05, 6.666666666666667e-05, 1.6666666666666667e-05, 1.6666666666666667e-05, 1.6666666666666667e-05, 1.6666666666666667e-05, 0.00011666666666666667, 0.00025, 1.0, 3.3333333333333335e-05, 5e-05, 3.3333333333333335e-05, 1.0, 1.6666666666666667e-05, 1.0, 1.6666666666666667e-05, 0.022616666666666667, 1.6666666666666667e-05, 1.6666666666666667e-05, 1.6666666666666667e-05, 0.017816666666666668, 1.6666666666666667e-05, 1.6666666666666667e-05, 3.3333333333333335e-05, 6.666666666666667e-05, 1.6666666666666667e-05, 0.0007333333333333333, 0.0012166666666666667, 0.00023333333333333333, 0.00015, 1.6666666666666667e-05, 0.0002, 3.3333333333333335e-05, 8.333333333333333e-05, 0.0003333333333333333, 0.0002, 1.0, 1.6666666666666667e-05, 1.6666666666666667e-05, 6.666666666666667e-05, 3.3333333333333335e-05, 3.3333333333333335e-05, 0.00016666666666666666, 1.6666666666666667e-05, 3.3333333333333335e-05, 1.6666666666666667e-05, 3.3333333333333335e-05, 5e-05, 1.0, 1.6666666666666667e-05, 1.0, 1.6666666666666667e-05, 3.3333333333333335e-05, 0.0005, 3.3333333333333335e-05, 0.00013333333333333334, 1.6666666666666667e-05, 0.00038333333333333334, 1.6666666666666667e-05, 5e-05, 1.6666666666666667e-05, 3.3333333333333335e-05, 1.6666666666666667e-05, 8.333333333333333e-05, 5e-05, 0.0001, 1.6666666666666667e-05, 0.0011166666666666666, 1.6666666666666667e-05, 6.666666666666667e-05, 1.6666666666666667e-05, 3.3333333333333335e-05, 1.6666666666666667e-05, 3.3333333333333335e-05, 0.0135, 1.6666666666666667e-05, 5e-05, 1.0, 1.6666666666666667e-05, 0.0008833333333333333, 1.6666666666666667e-05, 1.6666666666666667e-05, 5e-05, 0.0005833333333333334, 0.00015, 0.0021666666666666666, 1.0, 1.0, 3.3333333333333335e-05, 3.3333333333333335e-05, 1.6666666666666667e-05, 1.0, 0.0002666666666666667, 0.00018333333333333334, 0.00095, 1.6666666666666667e-05, 1.6666666666666667e-05, 0.01345, 1.6666666666666667e-05, 1.6666666666666667e-05, 0.0022333333333333333, 3.3333333333333335e-05, 1.6666666666666667e-05, 0.0016333333333333334, 3.3333333333333335e-05, 3.3333333333333335e-05, 1.6666666666666667e-05, 5e-05, 1.6666666666666667e-05, 3.3333333333333335e-05, 1.6666666666666667e-05, 0.00028333333333333335, 1.6666666666666667e-05, 1.6666666666666667e-05, 1.0, 0.0073, 1.6666666666666667e-05, 5e-05, 1.6666666666666667e-05, 0.005033333333333333, 6.666666666666667e-05, 5e-05, 0.00015, 0.00021666666666666666, 1.0, 1.6666666666666667e-05, 3.3333333333333335e-05, 8.333333333333333e-05, 0.011333333333333334, 0.0031, 0.002683333333333333, 0.00016666666666666666, 0.00655, 0.00031666666666666665, 0.0002666666666666667, 1.6666666666666667e-05, 0.00031666666666666665, 0.00021666666666666666, 0.00013333333333333334, 1.0, 1.6666666666666667e-05, 5e-05, 5e-05, 0.0009666666666666667, 0.0012166666666666667, 0.0005166666666666667, 1.6666666666666667e-05, 3.3333333333333335e-05, 3.3333333333333335e-05, 0.00018333333333333334, 5e-05, 0.00015, 3.3333333333333335e-05, 1.6666666666666667e-05, 0.0061, 0.007, 1.0, 1.6666666666666667e-05, 0.00011666666666666667, 0.0001, 3.3333333333333335e-05, 0.00015, 1.0, 8.333333333333333e-05, 3.3333333333333335e-05, 1.6666666666666667e-05, 3.3333333333333335e-05, 0.02435, 1.6666666666666667e-05, 0.00585, 1.6666666666666667e-05, 0.0009333333333333333, 6.666666666666667e-05, 6.666666666666667e-05, 5e-05, 1.6666666666666667e-05, 1.6666666666666667e-05, 5e-05, 1.6666666666666667e-05, 3.3333333333333335e-05, 0.00011666666666666667, 1.6666666666666667e-05, 0.00016666666666666666, 0.00036666666666666667, 3.3333333333333335e-05, 8.333333333333333e-05, 1.0, 5e-05, 0.0042, 3.3333333333333335e-05, 3.3333333333333335e-05, 1.6666666666666667e-05, 1.6666666666666667e-05, 0.008283333333333334, 1.6666666666666667e-05, 1.0, 1.6666666666666667e-05, 3.3333333333333335e-05, 1.6666666666666667e-05, 0.0006333333333333333, 0.0029333333333333334, 0.0019166666666666666, 0.0001, 6.666666666666667e-05, 0.0036166666666666665, 1.6666666666666667e-05, 1.6666666666666667e-05, 0.00038333333333333334, 1.6666666666666667e-05, 0.0001, 0.00011666666666666667, 0.0246, 6.666666666666667e-05, 5e-05, 1.6666666666666667e-05, 6.666666666666667e-05, 1.6666666666666667e-05, 1.0, 1.6666666666666667e-05, 1.6666666666666667e-05, 5e-05, 1.6666666666666667e-05, 6.666666666666667e-05, 0.00015, 1.6666666666666667e-05, 8.333333333333333e-05, 0.00016666666666666666, 0.00011666666666666667, 1.6666666666666667e-05, 1.6666666666666667e-05, 1.6666666666666667e-05, 1.6666666666666667e-05, 1.6666666666666667e-05, 8.333333333333333e-05, 3.3333333333333335e-05, 1.6666666666666667e-05, 1.6666666666666667e-05, 1.6666666666666667e-05, 0.00016666666666666666, 1.6666666666666667e-05, 3.3333333333333335e-05, 6.666666666666667e-05, 5e-05, 1.6666666666666667e-05, 1.6666666666666667e-05, 0.0039, 1.6666666666666667e-05, 0.00031666666666666665, 1.6666666666666667e-05, 1.6666666666666667e-05, 1.0, 0.0001, 1.6666666666666667e-05, 0.0013833333333333334, 0.02305, 0.0005666666666666667, 1.6666666666666667e-05, 3.3333333333333335e-05, 1.6666666666666667e-05, 0.0014, 0.00015, 3.3333333333333335e-05, 1.6666666666666667e-05, 5e-05, 1.6666666666666667e-05, 1.6666666666666667e-05, 1.6666666666666667e-05, 1.6666666666666667e-05, 3.3333333333333335e-05, 0.0004333333333333333, 8.333333333333333e-05, 0.00105, 5e-05, 8.333333333333333e-05, 1.6666666666666667e-05, 1.6666666666666667e-05, 0.01265, 0.00645, 1.6666666666666667e-05, 0.0004166666666666667, 0.00018333333333333334, 0.0015666666666666667, 1.6666666666666667e-05, 0.0001, 1.6666666666666667e-05, 0.00036666666666666667, 0.012, 0.00028333333333333335, 5e-05, 0.00011666666666666667, 5e-05, 1.6666666666666667e-05, 5e-05, 3.3333333333333335e-05, 1.6666666666666667e-05, 6.666666666666667e-05, 1.6666666666666667e-05, 0.00011666666666666667, 6.666666666666667e-05, 0.0014666666666666667, 1.6666666666666667e-05, 0.004933333333333333, 1.6666666666666667e-05, 1.6666666666666667e-05, 1.6666666666666667e-05, 0.0007333333333333333, 1.6666666666666667e-05, 1.6666666666666667e-05, 1.6666666666666667e-05, 1.6666666666666667e-05, 0.00011666666666666667, 0.00011666666666666667, 0.0075, 1.6666666666666667e-05, 1.6666666666666667e-05, 1.6666666666666667e-05, 1.0, 1.6666666666666667e-05, 0.004216666666666666, 5e-05, 1.6666666666666667e-05, 0.01015, 1.6666666666666667e-05, 0.0017333333333333333, 1.6666666666666667e-05, 3.3333333333333335e-05, 1.6666666666666667e-05, 1.6666666666666667e-05, 1.6666666666666667e-05, 1.6666666666666667e-05, 1.0, 3.3333333333333335e-05, 1.6666666666666667e-05, 1.6666666666666667e-05, 0.022883333333333332, 1.6666666666666667e-05, 3.3333333333333335e-05, 3.3333333333333335e-05, 1.6666666666666667e-05, 1.6666666666666667e-05, 0.0025833333333333333, 3.3333333333333335e-05, 3.3333333333333335e-05, 5e-05, 1.6666666666666667e-05, 1.6666666666666667e-05, 1.6666666666666667e-05, 1.6666666666666667e-05, 5e-05, 1.6666666666666667e-05, 1.6666666666666667e-05, 1.6666666666666667e-05, 1.6666666666666667e-05, 6.666666666666667e-05, 0.006366666666666666, 1.0, 1.6666666666666667e-05, 1.6666666666666667e-05, 0.0005166666666666667, 1.6666666666666667e-05, 1.6666666666666667e-05, 0.0033666666666666667, 1.6666666666666667e-05, 5e-05, 0.0213, 0.00016666666666666666, 1.0, 0.0004333333333333333, 1.0, 3.3333333333333335e-05, 3.3333333333333335e-05, 5e-05, 1.6666666666666667e-05, 0.0001, 1.0, 1.6666666666666667e-05, 1.0, 3.3333333333333335e-05, 0.00055, 1.0, 6.666666666666667e-05, 0.00055, 0.00305, 1.6666666666666667e-05, 3.3333333333333335e-05, 6.666666666666667e-05, 5e-05, 0.006816666666666667, 0.00011666666666666667, 0.0010166666666666666, 0.00016666666666666666, 0.0004333333333333333, 3.3333333333333335e-05, 1.6666666666666667e-05, 0.00355, 3.3333333333333335e-05, 1.6666666666666667e-05, 1.0, 3.3333333333333335e-05, 1.6666666666666667e-05, 8.333333333333333e-05, 3.3333333333333335e-05, 1.6666666666666667e-05, 1.6666666666666667e-05, 1.6666666666666667e-05, 3.3333333333333335e-05, 1.6666666666666667e-05, 1.6666666666666667e-05, 1.6666666666666667e-05, 0.00036666666666666667, 0.00013333333333333334, 0.005116666666666667, 0.0005333333333333334, 0.0037166666666666667, 1.0, 3.3333333333333335e-05, 1.6666666666666667e-05, 0.00015, 0.0028, 3.3333333333333335e-05, 0.00016666666666666666, 3.3333333333333335e-05, 0.0018833333333333334, 3.3333333333333335e-05, 3.3333333333333335e-05, 1.6666666666666667e-05, 1.6666666666666667e-05, 1.6666666666666667e-05, 5e-05, 0.0001, 0.00015, 6.666666666666667e-05, 1.6666666666666667e-05, 8.333333333333333e-05, 5e-05, 3.3333333333333335e-05, 1.6666666666666667e-05, 0.0046166666666666665, 1.6666666666666667e-05, 0.00011666666666666667, 1.6666666666666667e-05, 3.3333333333333335e-05, 3.3333333333333335e-05, 1.6666666666666667e-05, 6.666666666666667e-05, 0.0452, 5e-05, 1.6666666666666667e-05, 0.0015333333333333334, 8.333333333333333e-05, 1.6666666666666667e-05, 0.0041, 0.0009333333333333333, 1.6666666666666667e-05, 0.0037166666666666667, 6.666666666666667e-05, 3.3333333333333335e-05, 3.3333333333333335e-05, 3.3333333333333335e-05, 0.00015, 3.3333333333333335e-05, 1.6666666666666667e-05, 0.0002666666666666667, 5e-05, 1.6666666666666667e-05, 1.6666666666666667e-05, 1.6666666666666667e-05, 5e-05, 1.6666666666666667e-05, 1.6666666666666667e-05, 1.6666666666666667e-05, 6.666666666666667e-05, 3.3333333333333335e-05, 0.0016166666666666666, 1.6666666666666667e-05, 0.00015, 1.6666666666666667e-05, 0.0003, 1.6666666666666667e-05, 5e-05, 1.0, 6.666666666666667e-05, 1.6666666666666667e-05, 1.6666666666666667e-05, 0.00021666666666666666, 1.0, 1.6666666666666667e-05, 0.00011666666666666667, 0.0030666666666666668, 1.6666666666666667e-05, 6.666666666666667e-05, 1.6666666666666667e-05, 3.3333333333333335e-05, 1.6666666666666667e-05, 1.6666666666666667e-05, 0.0019, 5e-05, 3.3333333333333335e-05, 1.6666666666666667e-05, 0.00021666666666666666, 6.666666666666667e-05, 1.6666666666666667e-05, 8.333333333333333e-05, 1.6666666666666667e-05, 1.6666666666666667e-05, 0.013883333333333333, 5e-05, 0.002766666666666667, 3.3333333333333335e-05, 1.6666666666666667e-05, 0.0059, 1.0, 6.666666666666667e-05, 5e-05, 5e-05, 8.333333333333333e-05, 0.0012166666666666667, 1.6666666666666667e-05, 1.6666666666666667e-05, 3.3333333333333335e-05, 6.666666666666667e-05, 5e-05, 1.6666666666666667e-05, 5e-05, 5e-05, 5e-05, 0.009466666666666667, 0.0002, 3.3333333333333335e-05, 0.00031666666666666665, 8.333333333333333e-05, 1.6666666666666667e-05, 1.0, 0.022983333333333335, 0.006216666666666666, 1.6666666666666667e-05, 0.0010166666666666666, 6.666666666666667e-05, 1.0, 1.6666666666666667e-05, 1.6666666666666667e-05, 1.6666666666666667e-05, 1.6666666666666667e-05, 0.0042833333333333334, 1.6666666666666667e-05, 3.3333333333333335e-05, 1.6666666666666667e-05, 6.666666666666667e-05, 3.3333333333333335e-05, 3.3333333333333335e-05, 1.6666666666666667e-05, 0.0013166666666666667, 5e-05, 1.6666666666666667e-05, 6.666666666666667e-05, 0.00016666666666666666, 1.6666666666666667e-05, 1.6666666666666667e-05, 1.6666666666666667e-05, 5e-05, 1.6666666666666667e-05, 1.0, 3.3333333333333335e-05, 1.6666666666666667e-05, 0.00175, 0.0001, 0.00016666666666666666, 3.3333333333333335e-05, 3.3333333333333335e-05, 1.0, 0.0003333333333333333, 1.6666666666666667e-05, 6.666666666666667e-05, 0.00036666666666666667, 1.0, 3.3333333333333335e-05, 1.6666666666666667e-05, 0.0026666666666666666, 0.0037166666666666667, 3.3333333333333335e-05, 0.0005666666666666667, 3.3333333333333335e-05, 6.666666666666667e-05, 1.6666666666666667e-05, 1.6666666666666667e-05, 1.6666666666666667e-05, 0.0013666666666666666, 0.0026, 1.6666666666666667e-05, 5e-05, 3.3333333333333335e-05, 3.3333333333333335e-05, 0.0002666666666666667, 1.6666666666666667e-05, 3.3333333333333335e-05, 1.6666666666666667e-05, 1.6666666666666667e-05, 1.6666666666666667e-05, 5e-05, 0.0031333333333333335, 0.00013333333333333334, 1.0, 3.3333333333333335e-05, 1.6666666666666667e-05, 5e-05, 1.6666666666666667e-05, 8.333333333333333e-05, 1.6666666666666667e-05, 0.00075, 1.6666666666666667e-05, 0.0014, 5e-05, 0.00011666666666666667, 1.6666666666666667e-05, 1.6666666666666667e-05, 3.3333333333333335e-05, 3.3333333333333335e-05, 0.0174, 1.6666666666666667e-05, 1.0, 3.3333333333333335e-05, 0.00011666666666666667, 0.0052833333333333335, 0.00013333333333333334, 6.666666666666667e-05, 1.6666666666666667e-05, 0.0033333333333333335, 3.3333333333333335e-05, 0.00021666666666666666, 1.0, 0.009616666666666667, 0.0002666666666666667, 1.0, 3.3333333333333335e-05, 0.00011666666666666667, 1.6666666666666667e-05, 3.3333333333333335e-05, 1.6666666666666667e-05, 1.6666666666666667e-05, 3.3333333333333335e-05, 0.0008166666666666667, 6.666666666666667e-05, 0.00735, 1.6666666666666667e-05, 5e-05, 1.6666666666666667e-05, 3.3333333333333335e-05, 0.0038, 0.0002, 1.6666666666666667e-05, 1.6666666666666667e-05, 3.3333333333333335e-05, 6.666666666666667e-05, 1.6666666666666667e-05, 0.00025, 0.00035, 1.0, 3.3333333333333335e-05, 0.0027833333333333334, 1.6666666666666667e-05, 0.00165, 3.3333333333333335e-05, 3.3333333333333335e-05, 0.0005666666666666667, 1.6666666666666667e-05, 0.00011666666666666667, 1.0, 1.0, 0.003966666666666667, 1.6666666666666667e-05, 0.00016666666666666666, 1.6666666666666667e-05, 1.6666666666666667e-05, 3.3333333333333335e-05, 0.00013333333333333334, 0.0003, 0.005483333333333333, 8.333333333333333e-05, 1.6666666666666667e-05, 1.6666666666666667e-05, 3.3333333333333335e-05, 1.6666666666666667e-05, 8.333333333333333e-05, 0.016766666666666666, 0.00018333333333333334, 1.6666666666666667e-05, 0.0001, 5e-05, 5e-05, 0.00675, 1.6666666666666667e-05, 0.0031166666666666665, 0.00015, 1.6666666666666667e-05, 1.6666666666666667e-05, 5e-05, 1.6666666666666667e-05, 0.0002666666666666667, 0.00015, 3.3333333333333335e-05, 3.3333333333333335e-05, 1.6666666666666667e-05, 1.6666666666666667e-05, 1.6666666666666667e-05, 0.0016, 1.6666666666666667e-05, 1.6666666666666667e-05, 0.0007166666666666667, 6.666666666666667e-05, 1.6666666666666667e-05, 1.6666666666666667e-05, 1.6666666666666667e-05, 3.3333333333333335e-05, 0.0001, 3.3333333333333335e-05, 1.0, 1.6666666666666667e-05, 1.6666666666666667e-05, 1.6666666666666667e-05, 0.01195, 1.0, 0.0004, 6.666666666666667e-05, 1.6666666666666667e-05, 1.6666666666666667e-05, 1.6666666666666667e-05, 5e-05, 5e-05, 1.6666666666666667e-05, 6.666666666666667e-05, 0.00015, 1.0, 1.6666666666666667e-05, 1.6666666666666667e-05, 6.666666666666667e-05, 0.002266666666666667, 0.0001, 1.6666666666666667e-05, 3.3333333333333335e-05, 0.00016666666666666666, 0.0005833333333333334, 8.333333333333333e-05, 3.3333333333333335e-05, 0.00011666666666666667, 0.0005, 5e-05, 6.666666666666667e-05, 0.00035, 0.0003, 1.0, 1.6666666666666667e-05, 6.666666666666667e-05, 1.0, 1.0, 0.00016666666666666666, 1.6666666666666667e-05, 1.6666666666666667e-05, 8.333333333333333e-05, 1.6666666666666667e-05, 0.0009166666666666666, 1.6666666666666667e-05, 0.0004166666666666667, 1.6666666666666667e-05, 1.6666666666666667e-05, 0.00035, 0.00018333333333333334, 1.6666666666666667e-05, 1.6666666666666667e-05, 0.00085, 3.3333333333333335e-05, 8.333333333333333e-05, 0.00015, 1.6666666666666667e-05, 0.0001, 3.3333333333333335e-05, 5e-05, 3.3333333333333335e-05, 1.6666666666666667e-05, 0.00031666666666666665, 0.0007833333333333334, 0.00031666666666666665, 1.0, 0.0008833333333333333, 3.3333333333333335e-05, 3.3333333333333335e-05, 3.3333333333333335e-05, 8.333333333333333e-05, 5e-05]\n"
     ]
    },
    {
     "data": {
      "text/plain": [
       "(array([934.,   0.,   0.,   0.,   0.,   0.,   0.,   0.,   0.,   0.,   0.,\n",
       "          0.,   0.,   0.,   0.,   0.,   0.,   0.,   0.,  67.]),\n",
       " array([1.66666667e-05, 5.00158333e-02, 1.00015000e-01, 1.50014167e-01,\n",
       "        2.00013333e-01, 2.50012500e-01, 3.00011667e-01, 3.50010833e-01,\n",
       "        4.00010000e-01, 4.50009167e-01, 5.00008333e-01, 5.50007500e-01,\n",
       "        6.00006667e-01, 6.50005833e-01, 7.00005000e-01, 7.50004167e-01,\n",
       "        8.00003333e-01, 8.50002500e-01, 9.00001667e-01, 9.50000833e-01,\n",
       "        1.00000000e+00]),\n",
       " <BarContainer object of 20 artists>)"
      ]
     },
     "execution_count": 17,
     "metadata": {},
     "output_type": "execute_result"
    },
    {
     "data": {
      "image/png": "[encoded data removed]",
      "text/plain": [
       "<Figure size 640x480 with 1 Axes>"
      ]
     },
     "metadata": {},
     "output_type": "display_data"
    }
   ],
   "source": [
    "fc_m_vals = compute_m_vals(fc_feats, labels, 1000)\n",
    "print(fc_m_vals)\n",
    "plt.hist(fc_m_vals, bins=20)"
   ]
  },
  {
   "cell_type": "code",
   "execution_count": null,
   "metadata": {},
   "outputs": [],
   "source": []
  }
 ],
 "metadata": {
  "kernelspec": {
   "display_name": "pytorch_env",
   "language": "python",
   "name": "python3"
  },
  "language_info": {
   "codemirror_mode": {
    "name": "ipython",
    "version": 3
   },
   "file_extension": ".py",
   "mimetype": "text/x-python",
   "name": "python",
   "nbconvert_exporter": "python",
   "pygments_lexer": "ipython3",
   "version": "3.11.7"
  }
 },
 "nbformat": 4,
 "nbformat_minor": 2
}
